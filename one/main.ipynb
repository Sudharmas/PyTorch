{
 "cells": [
  {
   "cell_type": "code",
   "id": "initial_id",
   "metadata": {
    "collapsed": true
   },
   "source": [
    "import torch\n",
    "import numpy as np\n",
    "torch.__version__"
   ],
   "outputs": [],
   "execution_count": null
  },
  {
   "metadata": {},
   "cell_type": "code",
   "source": [
    "device = \"mps\" if torch.backends.mps.is_available() else \"cpu\"\n",
    "device"
   ],
   "id": "caf86b4db7dda86e",
   "outputs": [],
   "execution_count": null
  },
  {
   "metadata": {},
   "cell_type": "markdown",
   "source": "Creating  tensor",
   "id": "6a29926f54c5b99a"
  },
  {
   "metadata": {},
   "cell_type": "code",
   "source": [
    "#using empty\n",
    "a= torch.empty(2,3)\n",
    "type(a)"
   ],
   "id": "1978abcab621bbc9",
   "outputs": [],
   "execution_count": null
  },
  {
   "metadata": {},
   "cell_type": "code",
   "source": [
    "#using zeroes\n",
    "torch.zeros(2,3)"
   ],
   "id": "74fb1a02605e811f",
   "outputs": [],
   "execution_count": null
  },
  {
   "metadata": {},
   "cell_type": "code",
   "source": [
    "#using ones\n",
    "torch.ones(2,3)"
   ],
   "id": "1cb205132071b765",
   "outputs": [],
   "execution_count": null
  },
  {
   "metadata": {},
   "cell_type": "code",
   "source": [
    "#using rand\n",
    "torch.rand(2,3)"
   ],
   "id": "c2db158d1ea081bf",
   "outputs": [],
   "execution_count": null
  },
  {
   "metadata": {},
   "cell_type": "code",
   "source": [
    "#using tensor\n",
    "torch.tensor([[1,2,3],[4,3,5]])"
   ],
   "id": "d7cb357733fc9176",
   "outputs": [],
   "execution_count": null
  },
  {
   "metadata": {},
   "cell_type": "code",
   "source": [
    "#inplace operations in pytorch\n",
    "#just add a _ infront of any operation so that t=it will become in place operation,which means the operation is performed and the value is stored back to the lefthand side variable.for example m.add_(n) will add numbers of m and n and store added values into m ,n will be same as it is.\n"
   ],
   "id": "7a0c78ddff4125b9",
   "outputs": [],
   "execution_count": null
  },
  {
   "metadata": {},
   "cell_type": "markdown",
   "source": "# Autograd",
   "id": "99785b3eaf4a0a53"
  },
  {
   "metadata": {},
   "cell_type": "code",
   "source": "import torch",
   "id": "21bad96c1db1a7eb",
   "outputs": [],
   "execution_count": null
  },
  {
   "metadata": {},
   "cell_type": "code",
   "source": "x = torch.tensor(3.0,requires_grad=True)",
   "id": "af9e9afd25318f22",
   "outputs": [],
   "execution_count": null
  },
  {
   "metadata": {},
   "cell_type": "code",
   "source": "x",
   "id": "acced2ef4487f2c0",
   "outputs": [],
   "execution_count": null
  },
  {
   "metadata": {},
   "cell_type": "code",
   "source": [
    "y = x**2\n",
    "y"
   ],
   "id": "b6f3a6d64eb94b22",
   "outputs": [],
   "execution_count": null
  },
  {
   "metadata": {},
   "cell_type": "code",
   "source": "z=torch.sin(y)",
   "id": "752005790565a05c",
   "outputs": [],
   "execution_count": null
  },
  {
   "metadata": {},
   "cell_type": "code",
   "source": "z",
   "id": "c90bb1bed0aefc7f",
   "outputs": [],
   "execution_count": null
  },
  {
   "metadata": {},
   "cell_type": "code",
   "source": "z.backward()",
   "id": "c69fece248f085f8",
   "outputs": [],
   "execution_count": null
  },
  {
   "metadata": {},
   "cell_type": "code",
   "source": "x.grad",
   "id": "5ad2682bdb27fff9",
   "outputs": [],
   "execution_count": null
  },
  {
   "metadata": {},
   "cell_type": "code",
   "source": "",
   "id": "6292c438d4ecbe72",
   "outputs": [],
   "execution_count": null
  }
 ],
 "metadata": {
  "kernelspec": {
   "display_name": "Python 3",
   "language": "python",
   "name": "python3"
  },
  "language_info": {
   "codemirror_mode": {
    "name": "ipython",
    "version": 2
   },
   "file_extension": ".py",
   "mimetype": "text/x-python",
   "name": "python",
   "nbconvert_exporter": "python",
   "pygments_lexer": "ipython2",
   "version": "2.7.6"
  }
 },
 "nbformat": 4,
 "nbformat_minor": 5
}
