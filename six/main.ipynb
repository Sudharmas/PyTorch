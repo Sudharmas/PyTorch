{
 "cells": [
  {
   "cell_type": "code",
   "id": "initial_id",
   "metadata": {
    "collapsed": true,
    "ExecuteTime": {
     "end_time": "2025-09-10T14:53:22.634077Z",
     "start_time": "2025-09-10T14:53:21.236144Z"
    }
   },
   "source": [
    "from copyreg import dispatch_table\n",
    "\n",
    "from sklearn.datasets import make_classification\n",
    "from torch.utils.data import DataLoader,Dataset\n",
    "import torch"
   ],
   "outputs": [],
   "execution_count": 1
  },
  {
   "metadata": {
    "ExecuteTime": {
     "end_time": "2025-09-10T14:53:22.640508Z",
     "start_time": "2025-09-10T14:53:22.638209Z"
    }
   },
   "cell_type": "code",
   "source": [
    "x,y = make_classification(\n",
    "    n_features=2,\n",
    "    n_samples=10,\n",
    "    n_informative=2,\n",
    "    n_redundant=0,\n",
    "    n_classes=2,\n",
    "    random_state=42,\n",
    ")"
   ],
   "id": "71cc7eb97932e534",
   "outputs": [],
   "execution_count": 2
  },
  {
   "metadata": {
    "ExecuteTime": {
     "end_time": "2025-09-10T14:53:22.655657Z",
     "start_time": "2025-09-10T14:53:22.652458Z"
    }
   },
   "cell_type": "code",
   "source": "x",
   "id": "496d9f7556d6eb88",
   "outputs": [
    {
     "data": {
      "text/plain": [
       "array([[ 1.06833894, -0.97007347],\n",
       "       [-1.14021544, -0.83879234],\n",
       "       [-2.8953973 ,  1.97686236],\n",
       "       [-0.72063436, -0.96059253],\n",
       "       [-1.96287438, -0.99225135],\n",
       "       [-0.9382051 , -0.54304815],\n",
       "       [ 1.72725924, -1.18582677],\n",
       "       [ 1.77736657,  1.51157598],\n",
       "       [ 1.89969252,  0.83444483],\n",
       "       [-0.58723065, -1.97171753]])"
      ]
     },
     "execution_count": 3,
     "metadata": {},
     "output_type": "execute_result"
    }
   ],
   "execution_count": 3
  },
  {
   "metadata": {
    "ExecuteTime": {
     "end_time": "2025-09-10T14:53:22.687868Z",
     "start_time": "2025-09-10T14:53:22.685546Z"
    }
   },
   "cell_type": "code",
   "source": [
    "x= torch.tensor(x, dtype=torch.float)\n",
    "y = torch.tensor(y, dtype=torch.float)"
   ],
   "id": "b15f02e7be7ab6a1",
   "outputs": [],
   "execution_count": 4
  },
  {
   "metadata": {
    "ExecuteTime": {
     "end_time": "2025-09-10T14:53:22.728915Z",
     "start_time": "2025-09-10T14:53:22.726896Z"
    }
   },
   "cell_type": "code",
   "source": [
    "class customdataset(Dataset):\n",
    "    def __init__(self,features,labels):\n",
    "        self.features=features\n",
    "        self.labels=labels\n",
    "    def __len__(self):\n",
    "        return self.features.shape[0]\n",
    "    def __getitem__(self, idx):\n",
    "        return self.features[idx],self.labels[idx]"
   ],
   "id": "54b53aff74207b81",
   "outputs": [],
   "execution_count": 5
  },
  {
   "metadata": {
    "ExecuteTime": {
     "end_time": "2025-09-10T14:53:22.741121Z",
     "start_time": "2025-09-10T14:53:22.739207Z"
    }
   },
   "cell_type": "code",
   "source": "dataset = customdataset(x,y)",
   "id": "920980e4bc66c361",
   "outputs": [],
   "execution_count": 6
  },
  {
   "metadata": {
    "ExecuteTime": {
     "end_time": "2025-09-10T14:53:22.753547Z",
     "start_time": "2025-09-10T14:53:22.751494Z"
    }
   },
   "cell_type": "code",
   "source": "dataloader = DataLoader(dataset,batch_size=2,shuffle=False)",
   "id": "c72310495650d75e",
   "outputs": [],
   "execution_count": 7
  },
  {
   "metadata": {
    "ExecuteTime": {
     "end_time": "2025-09-10T14:53:22.767211Z",
     "start_time": "2025-09-10T14:53:22.762327Z"
    }
   },
   "cell_type": "code",
   "source": [
    "for batchfeatures ,batchlbels in dataloader:\n",
    "    print(batchfeatures)"
   ],
   "id": "678e91d105ecfc9e",
   "outputs": [
    {
     "name": "stdout",
     "output_type": "stream",
     "text": [
      "tensor([[ 1.0683, -0.9701],\n",
      "        [-1.1402, -0.8388]])\n",
      "tensor([[-2.8954,  1.9769],\n",
      "        [-0.7206, -0.9606]])\n",
      "tensor([[-1.9629, -0.9923],\n",
      "        [-0.9382, -0.5430]])\n",
      "tensor([[ 1.7273, -1.1858],\n",
      "        [ 1.7774,  1.5116]])\n",
      "tensor([[ 1.8997,  0.8344],\n",
      "        [-0.5872, -1.9717]])\n"
     ]
    }
   ],
   "execution_count": 8
  },
  {
   "metadata": {
    "ExecuteTime": {
     "end_time": "2025-09-10T14:53:22.785198Z",
     "start_time": "2025-09-10T14:53:22.783859Z"
    }
   },
   "cell_type": "code",
   "source": "",
   "id": "9efaf548fecf081f",
   "outputs": [],
   "execution_count": null
  },
  {
   "metadata": {
    "ExecuteTime": {
     "end_time": "2025-09-10T14:53:22.794945Z",
     "start_time": "2025-09-10T14:53:22.793711Z"
    }
   },
   "cell_type": "code",
   "source": "",
   "id": "ed15ec80d82d474d",
   "outputs": [],
   "execution_count": null
  }
 ],
 "metadata": {
  "kernelspec": {
   "display_name": "Python 3",
   "language": "python",
   "name": "python3"
  },
  "language_info": {
   "codemirror_mode": {
    "name": "ipython",
    "version": 2
   },
   "file_extension": ".py",
   "mimetype": "text/x-python",
   "name": "python",
   "nbconvert_exporter": "python",
   "pygments_lexer": "ipython2",
   "version": "2.7.6"
  }
 },
 "nbformat": 4,
 "nbformat_minor": 5
}
