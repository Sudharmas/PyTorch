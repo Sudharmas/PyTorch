{
 "cells": [
  {
   "cell_type": "code",
   "id": "initial_id",
   "metadata": {
    "collapsed": true
   },
   "source": [
    ""
   ],
   "outputs": [],
   "execution_count": null
  },
  {
   "metadata": {
    "collapsed": true
   },
   "cell_type": "code",
   "source": [
    "import pandas as pd\n",
    "from IPython.core.pylabtools import figsize\n",
    "from sklearn.model_selection import train_test_split\n",
    "import torch\n",
    "from torch.utils.data import DataLoader,Dataset\n",
    "import torch.nn as nn\n",
    "import torch.optim as optim\n",
    "import matplotlib.pyplot as plt\n",
    "import numpy as np"
   ],
   "id": "e728579362701338",
   "outputs": [],
   "execution_count": null
  },
  {
   "metadata": {},
   "cell_type": "code",
   "source": [
    "device = \"mps\" if torch.backends.mps.is_available() else \"cpu\"\n",
    "device"
   ],
   "id": "90f3493a806adf53",
   "outputs": [],
   "execution_count": null
  },
  {
   "metadata": {},
   "cell_type": "code",
   "source": "torch.manual_seed(42)\n",
   "id": "b56147c1891d3d59",
   "outputs": [],
   "execution_count": null
  },
  {
   "metadata": {},
   "cell_type": "code",
   "source": "df = pd.read_csv('./fashion-mnist_train.csv')",
   "id": "414fb27e1e4c1a52",
   "outputs": [],
   "execution_count": null
  },
  {
   "metadata": {},
   "cell_type": "code",
   "source": "df.shape",
   "id": "83230b1477418680",
   "outputs": [],
   "execution_count": null
  },
  {
   "metadata": {},
   "cell_type": "code",
   "source": [
    "fig,axes = plt.subplots(4,4,figsize=(10,10))\n",
    "fig.suptitle(\"16 images\")\n",
    "for i,ax in enumerate(axes.flat):\n",
    "    img = df.iloc[i,1:].values.reshape(28,28)\n",
    "    ax.imshow(img)\n",
    "    ax.axis('off')\n",
    "    ax.set_title(f\"label {df.iloc[i,0]}\")\n",
    "\n",
    "plt.tight_layout(rect=[0,0,1,1])\n",
    "plt.show()"
   ],
   "id": "c2e50a18f992fa1a",
   "outputs": [],
   "execution_count": null
  },
  {
   "metadata": {},
   "cell_type": "code",
   "source": [
    "x = df.iloc[:,1:].values\n",
    "y = df.iloc[:,0].values"
   ],
   "id": "f3f2a45bc7450c96",
   "outputs": [],
   "execution_count": null
  },
  {
   "metadata": {},
   "cell_type": "code",
   "source": "xtrain,xtest,ytrain,ytest = train_test_split(x,y,test_size=0.2,random_state=42)",
   "id": "8c357ddaf18151a3",
   "outputs": [],
   "execution_count": null
  },
  {
   "metadata": {},
   "cell_type": "code",
   "source": [
    "xtrain = xtrain/255.0\n",
    "xtest = xtest/255.0\n",
    "xtrain.shape"
   ],
   "id": "66c309fdf1a538e8",
   "outputs": [],
   "execution_count": null
  },
  {
   "metadata": {},
   "cell_type": "code",
   "source": [
    "class customdataset(Dataset):\n",
    "    def __init__(self,features,labels):\n",
    "        self.features = torch.tensor(features,dtype=torch.float32)\n",
    "        self.labels = torch.tensor(labels,dtype=torch.long)\n",
    "\n",
    "    def __len__(self):\n",
    "        return len(self.features)\n",
    "\n",
    "    def __getitem__(self, idx):\n",
    "        return self.features[idx],self.labels[idx]\n"
   ],
   "id": "4448756e71f24a15",
   "outputs": [],
   "execution_count": null
  },
  {
   "metadata": {},
   "cell_type": "code",
   "source": [
    "traindataset = customdataset(xtrain,ytrain)\n",
    "len(traindataset)"
   ],
   "id": "44dcd04f62e8ba34",
   "outputs": [],
   "execution_count": null
  },
  {
   "metadata": {},
   "cell_type": "code",
   "source": "traindataset[0]",
   "id": "da79c8cb6c0f359f",
   "outputs": [],
   "execution_count": null
  },
  {
   "metadata": {},
   "cell_type": "code",
   "source": [
    "testdataset = customdataset(xtest,ytest)\n",
    "len(testdataset)"
   ],
   "id": "a7be7073495570b1",
   "outputs": [],
   "execution_count": null
  },
  {
   "metadata": {},
   "cell_type": "code",
   "source": [
    "trainloader = DataLoader(traindataset,batch_size=32,shuffle=True,pin_memory=True)\n",
    "testloader = DataLoader(testdataset,batch_size=32,shuffle=False,pin_memory=True)"
   ],
   "id": "4c6bc3bc04b9982",
   "outputs": [],
   "execution_count": null
  },
  {
   "metadata": {},
   "cell_type": "code",
   "source": [
    "# class MyNN(nn.Module):\n",
    "#     def __init__(self,numfeatures):\n",
    "#         super().__init__()\n",
    "#         self.model = nn.Sequential(nn.Linear(numfeatures,128),nn.ReLU(),nn.Linear(128,64),nn.ReLU(),nn.Linear(64,10))\n",
    "#\n",
    "#     def forward(self,x):\n",
    "#         return self.model(x)\n"
   ],
   "id": "556868ce2ba582de",
   "outputs": [],
   "execution_count": null
  },
  {
   "metadata": {},
   "cell_type": "code",
   "source": [
    "# epochs = 100\n",
    "# lr = 0.1"
   ],
   "id": "a3ead100f8cd56d8",
   "outputs": [],
   "execution_count": null
  },
  {
   "metadata": {},
   "cell_type": "code",
   "source": [
    "# model = MyNN(xtrain.shape[1]).to(device)\n",
    "# criterion = nn.CrossEntropyLoss()\n",
    "# optimizer = optim.SGD(model.parameters(),lr=lr)"
   ],
   "id": "b2a48ed8156f73e9",
   "outputs": [],
   "execution_count": null
  },
  {
   "metadata": {},
   "cell_type": "code",
   "source": [
    "# for epoch in range(epochs):\n",
    "#     for batchfeatures,batchlabels in trainloader:\n",
    "#         batchfeatures = batchfeatures.to(device)\n",
    "#         batchlabels = batchlabels.to(device)\n",
    "#         output = model(batchfeatures).to(device)\n",
    "#         loss = criterion(output,batchlabels)\n",
    "#         optimizer.zero_grad()\n",
    "#         loss.backward()\n",
    "#         optimizer.step()\n",
    "#     print(f\"epoch {epoch+1}, loss: {loss.item():.4f}\")\n"
   ],
   "id": "5a400429c37011fe",
   "outputs": [],
   "execution_count": null
  },
  {
   "metadata": {},
   "cell_type": "code",
   "source": "# model.eval()",
   "id": "3e150dfefeabbeab",
   "outputs": [],
   "execution_count": null
  },
  {
   "metadata": {},
   "cell_type": "code",
   "source": [
    "# total =0\n",
    "# correct = 0\n",
    "# with torch.no_grad():\n",
    "#     for batchfeatures,batchlabels in trainloader:\n",
    "#         batchfeatures = batchfeatures.to(device)\n",
    "#         batchlabels = batchlabels.to(device)\n",
    "#         output = model(batchfeatures).to(device)\n",
    "#         _, predicted = torch.max(output.data,1)\n",
    "#         total += batchlabels.shape[0]\n",
    "#         correct = correct + predicted.eq(batchlabels).sum().item()\n",
    "# print(correct/total)"
   ],
   "id": "1b079ae8fe5b7548",
   "outputs": [],
   "execution_count": null
  },
  {
   "metadata": {},
   "cell_type": "code",
   "source": [
    "#test acc = 88\n",
    "#train ac 97\n",
    "# gap - 9 percent\n",
    "# applying diff techniues to reduce overfitting"
   ],
   "id": "3f085646d607ed12",
   "outputs": [],
   "execution_count": null
  },
  {
   "metadata": {},
   "cell_type": "markdown",
   "source": [
    "# dropout - > turning off neurons in between to maximize acc\n",
    "applied after ReLu function"
   ],
   "id": "363ad7dc18f10b2b"
  },
  {
   "metadata": {},
   "cell_type": "markdown",
   "source": [
    "# Batch normalization - > during every mini batch,i.e, to  hidden layers to tabilize the change in weights from one layer to another\n",
    "applied after every layer,before activation functions"
   ],
   "id": "d4fc621dcafcff8"
  },
  {
   "metadata": {},
   "cell_type": "code",
   "source": [
    "class MyNN(nn.Module):\n",
    "    def __init__(self,numfeatures):\n",
    "        super().__init__()\n",
    "        self.model = nn.Sequential(nn.Linear(numfeatures,128),\n",
    "                                   nn.BatchNorm1d(128),\n",
    "                                   nn.ReLU(),\n",
    "                                   nn.Dropout(p=0.3),\n",
    "                                   nn.Linear(128,64),\n",
    "                                   nn.BatchNorm1d(64),\n",
    "                                   nn.ReLU(),\n",
    "                                   nn.Dropout(p=0.3),\n",
    "                                   nn.Linear(64,10))\n",
    "\n",
    "    def forward(self,x):\n",
    "        return self.model(x)"
   ],
   "id": "5da8f53388ac8434",
   "outputs": [],
   "execution_count": null
  },
  {
   "metadata": {},
   "cell_type": "markdown",
   "source": "# Regularization - > is applied to weights of model to apply penalty for large values by adding penalty, so that we get smaller or stable weights",
   "id": "6490b337e9b134eb"
  },
  {
   "metadata": {},
   "cell_type": "code",
   "source": [
    "model = MyNN(xtrain.shape[1]).to(device)\n",
    "criterion = nn.CrossEntropyLoss()\n",
    "optimizer = optim.SGD(model.parameters(),lr=lr,weight_decay=1e-4)"
   ],
   "id": "db5a1441404921cf",
   "outputs": [],
   "execution_count": null
  },
  {
   "metadata": {},
   "cell_type": "code",
   "source": [
    "#test acc - 89\n",
    "#train acc - 94\n",
    "# gap - 5 percent"
   ],
   "id": "1701f163fcb72fb6",
   "outputs": [],
   "execution_count": null
  },
  {
   "metadata": {},
   "cell_type": "code",
   "source": "",
   "id": "9c3a466cbb6fc397",
   "outputs": [],
   "execution_count": null
  },
  {
   "metadata": {},
   "cell_type": "code",
   "source": [
    "class NewNN(nn.Module):\n",
    "    def __init__(self,input_dim,output_dim,neurons_per_layer,num_hidden_layers,dropout):\n",
    "        super().__init__()\n",
    "        layers = []\n",
    "        for i in range(num_hidden_layers):\n",
    "            layers.append(nn.Linear(input_dim,neurons_per_layer))\n",
    "            layers.append(nn.BatchNorm1d(neurons_per_layer))\n",
    "            layers.append(nn.ReLU())\n",
    "            layers.append(nn.Dropout(dropout))\n",
    "            input_dim = neurons_per_layer\n",
    "        layers.append(nn.Linear(neurons_per_layer,output_dim))\n",
    "        self.model = nn.Sequential(*layers)\n",
    "\n",
    "    def forward(self,x):\n",
    "        return self.model(x)"
   ],
   "id": "30d4bebdd055cf54",
   "outputs": [],
   "execution_count": null
  },
  {
   "metadata": {},
   "cell_type": "code",
   "source": [
    "def objective(trial):\n",
    "    num_hidden_layers = trial.suggest_int(\"num_hidden_layers\",1,5)\n",
    "    neurons_per_layer = trial.suggest_int(\"neurons_per_layer\",8,128,step=8)\n",
    "    epochs = trial.suggest_int(\"epochs\",10,50,step=10)\n",
    "    learning_rate = trial.suggest_float(\"learning_rate\",1e-5,1e-1,log=True)\n",
    "    dropout = trial.suggest_float(\"dropout\",0.1,0.5,step=0.1)\n",
    "    batch_size = trial.suggest_categorical(\"batch_size\",[16,32,64,128])\n",
    "    optimizer = trial.suggest_categorical(\"optimizer\",[\"SGD\",\"Adam\",\"RMSprop\"])\n",
    "    weight_decay = trial.suggest_float(\"weight_decay\",1e-5,1e-3,log=True)\n",
    "\n",
    "    trainloader = DataLoader(traindataset,batch_size=batch_size,shuffle=True,pin_memory=True)\n",
    "    testloader = DataLoader(testdataset,batch_size=batch_size,shuffle=False,pin_memory=True)\n",
    "\n",
    "    input_dim =784\n",
    "    output_dim = 10\n",
    "    model = NewNN(input_dim,output_dim,neurons_per_layer,num_hidden_layers,dropout)\n",
    "    model.to(device)\n",
    "\n",
    "    criterion = nn.CrossEntropyLoss()\n",
    "    if optimizer == \"SGD\":\n",
    "        optimizer = optim.SGD(model.parameters(),lr=learning_rate,weight_decay=weight_decay)\n",
    "    elif optimizer == \"Adam\":\n",
    "        optimizer = optim.Adam(model.parameters(),lr=learning_rate,weight_decay=weight_decay)\n",
    "    else:\n",
    "        optimizer = optim.RMSprop(model.parameters(),lr=learning_rate,weight_decay=weight_decay)\n",
    "\n",
    "    for epoch in range(epochs):\n",
    "        for batchfeatures,batchlabels in trainloader:\n",
    "            batchfeatures = batchfeatures.to(device)\n",
    "            batchlabels = batchlabels.to(device)\n",
    "            output = model(batchfeatures).to(device)\n",
    "            loss = criterion(output,batchlabels)\n",
    "            optimizer.zero_grad()\n",
    "            loss.backward()\n",
    "            optimizer.step()\n",
    "\n",
    "    model.eval()\n",
    "\n",
    "    total =0\n",
    "    correct = 0\n",
    "    with torch.no_grad():\n",
    "        for batchfeatures,batchlabels in trainloader:\n",
    "            batchfeatures = batchfeatures.to(device)\n",
    "            batchlabels = batchlabels.to(device)\n",
    "            output = model(batchfeatures).to(device)\n",
    "            _, predicted = torch.max(output.data,1)\n",
    "            total += batchlabels.shape[0]\n",
    "            correct = correct + predicted.eq(batchlabels).sum().item()\n",
    "        acc = correct/total\n",
    "    return acc\n"
   ],
   "id": "7221499b3a00d44c",
   "outputs": [],
   "execution_count": null
  },
  {
   "metadata": {},
   "cell_type": "code",
   "source": [
    "import optuna\n",
    "study = optuna.create_study(direction=\"maximize\")\n",
    "study.optimize(objective,n_trials=10)"
   ],
   "id": "9f8e6ba71c056d0f",
   "outputs": [],
   "execution_count": null
  },
  {
   "metadata": {},
   "cell_type": "code",
   "source": "study.best_params,study.best_value",
   "id": "fd122e9474aaec58",
   "outputs": [],
   "execution_count": null
  },
  {
   "metadata": {},
   "cell_type": "code",
   "source": "",
   "id": "a93d6461a2bacaae",
   "outputs": [],
   "execution_count": null
  }
 ],
 "metadata": {
  "kernelspec": {
   "display_name": "Python 3",
   "language": "python",
   "name": "python3"
  },
  "language_info": {
   "codemirror_mode": {
    "name": "ipython",
    "version": 2
   },
   "file_extension": ".py",
   "mimetype": "text/x-python",
   "name": "python",
   "nbconvert_exporter": "python",
   "pygments_lexer": "ipython2",
   "version": "2.7.6"
  }
 },
 "nbformat": 4,
 "nbformat_minor": 5
}
