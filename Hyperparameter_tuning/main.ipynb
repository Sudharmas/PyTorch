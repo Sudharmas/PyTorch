{
 "cells": [
  {
   "cell_type": "code",
   "id": "initial_id",
   "metadata": {
    "collapsed": true
   },
   "source": [
    ""
   ],
   "outputs": [],
   "execution_count": null
  },
  {
   "metadata": {
    "collapsed": true,
    "ExecuteTime": {
     "end_time": "2025-09-14T08:03:10.801228Z",
     "start_time": "2025-09-14T08:03:08.241994Z"
    }
   },
   "cell_type": "code",
   "source": [
    "import pandas as pd\n",
    "from IPython.core.pylabtools import figsize\n",
    "from sklearn.model_selection import train_test_split\n",
    "import torch\n",
    "from torch.utils.data import DataLoader,Dataset\n",
    "import torch.nn as nn\n",
    "import torch.optim as optim\n",
    "import matplotlib.pyplot as plt\n",
    "import numpy as np"
   ],
   "id": "e728579362701338",
   "outputs": [
    {
     "ename": "KeyboardInterrupt",
     "evalue": "",
     "output_type": "error",
     "traceback": [
      "\u001B[31m---------------------------------------------------------------------------\u001B[39m",
      "\u001B[31mKeyboardInterrupt\u001B[39m                         Traceback (most recent call last)",
      "\u001B[36mCell\u001B[39m\u001B[36m \u001B[39m\u001B[32mIn[1]\u001B[39m\u001B[32m, line 3\u001B[39m\n\u001B[32m      1\u001B[39m \u001B[38;5;28;01mimport\u001B[39;00m\u001B[38;5;250m \u001B[39m\u001B[34;01mpandas\u001B[39;00m\u001B[38;5;250m \u001B[39m\u001B[38;5;28;01mas\u001B[39;00m\u001B[38;5;250m \u001B[39m\u001B[34;01mpd\u001B[39;00m\n\u001B[32m      2\u001B[39m \u001B[38;5;28;01mfrom\u001B[39;00m\u001B[38;5;250m \u001B[39m\u001B[34;01mIPython\u001B[39;00m\u001B[34;01m.\u001B[39;00m\u001B[34;01mcore\u001B[39;00m\u001B[34;01m.\u001B[39;00m\u001B[34;01mpylabtools\u001B[39;00m\u001B[38;5;250m \u001B[39m\u001B[38;5;28;01mimport\u001B[39;00m figsize\n\u001B[32m----> \u001B[39m\u001B[32m3\u001B[39m \u001B[38;5;28;01mfrom\u001B[39;00m\u001B[38;5;250m \u001B[39m\u001B[34;01msklearn\u001B[39;00m\u001B[34;01m.\u001B[39;00m\u001B[34;01mmodel_selection\u001B[39;00m\u001B[38;5;250m \u001B[39m\u001B[38;5;28;01mimport\u001B[39;00m train_test_split\n\u001B[32m      4\u001B[39m \u001B[38;5;28;01mimport\u001B[39;00m\u001B[38;5;250m \u001B[39m\u001B[34;01mtorch\u001B[39;00m\n\u001B[32m      5\u001B[39m \u001B[38;5;28;01mfrom\u001B[39;00m\u001B[38;5;250m \u001B[39m\u001B[34;01mtorch\u001B[39;00m\u001B[34;01m.\u001B[39;00m\u001B[34;01mutils\u001B[39;00m\u001B[34;01m.\u001B[39;00m\u001B[34;01mdata\u001B[39;00m\u001B[38;5;250m \u001B[39m\u001B[38;5;28;01mimport\u001B[39;00m DataLoader,Dataset\n",
      "\u001B[36mFile \u001B[39m\u001B[32m~/pytorch_basics/.venv/lib/python3.13/site-packages/sklearn/__init__.py:73\u001B[39m\n\u001B[32m     62\u001B[39m \u001B[38;5;66;03m# `_distributor_init` allows distributors to run custom init code.\u001B[39;00m\n\u001B[32m     63\u001B[39m \u001B[38;5;66;03m# For instance, for the Windows wheel, this is used to pre-load the\u001B[39;00m\n\u001B[32m     64\u001B[39m \u001B[38;5;66;03m# vcomp shared library runtime for OpenMP embedded in the sklearn/.libs\u001B[39;00m\n\u001B[32m   (...)\u001B[39m\u001B[32m     67\u001B[39m \u001B[38;5;66;03m# later is linked to the OpenMP runtime to make it possible to introspect\u001B[39;00m\n\u001B[32m     68\u001B[39m \u001B[38;5;66;03m# it and importing it first would fail if the OpenMP dll cannot be found.\u001B[39;00m\n\u001B[32m     69\u001B[39m \u001B[38;5;28;01mfrom\u001B[39;00m\u001B[38;5;250m \u001B[39m\u001B[34;01m.\u001B[39;00m\u001B[38;5;250m \u001B[39m\u001B[38;5;28;01mimport\u001B[39;00m (  \u001B[38;5;66;03m# noqa: F401 E402\u001B[39;00m\n\u001B[32m     70\u001B[39m     __check_build,\n\u001B[32m     71\u001B[39m     _distributor_init,\n\u001B[32m     72\u001B[39m )\n\u001B[32m---> \u001B[39m\u001B[32m73\u001B[39m \u001B[38;5;28;01mfrom\u001B[39;00m\u001B[38;5;250m \u001B[39m\u001B[34;01m.\u001B[39;00m\u001B[34;01mbase\u001B[39;00m\u001B[38;5;250m \u001B[39m\u001B[38;5;28;01mimport\u001B[39;00m clone  \u001B[38;5;66;03m# noqa: E402\u001B[39;00m\n\u001B[32m     74\u001B[39m \u001B[38;5;28;01mfrom\u001B[39;00m\u001B[38;5;250m \u001B[39m\u001B[34;01m.\u001B[39;00m\u001B[34;01mutils\u001B[39;00m\u001B[34;01m.\u001B[39;00m\u001B[34;01m_show_versions\u001B[39;00m\u001B[38;5;250m \u001B[39m\u001B[38;5;28;01mimport\u001B[39;00m show_versions  \u001B[38;5;66;03m# noqa: E402\u001B[39;00m\n\u001B[32m     76\u001B[39m _submodules = [\n\u001B[32m     77\u001B[39m     \u001B[33m\"\u001B[39m\u001B[33mcalibration\u001B[39m\u001B[33m\"\u001B[39m,\n\u001B[32m     78\u001B[39m     \u001B[33m\"\u001B[39m\u001B[33mcluster\u001B[39m\u001B[33m\"\u001B[39m,\n\u001B[32m   (...)\u001B[39m\u001B[32m    114\u001B[39m     \u001B[33m\"\u001B[39m\u001B[33mcompose\u001B[39m\u001B[33m\"\u001B[39m,\n\u001B[32m    115\u001B[39m ]\n",
      "\u001B[36mFile \u001B[39m\u001B[32m~/pytorch_basics/.venv/lib/python3.13/site-packages/sklearn/base.py:19\u001B[39m\n\u001B[32m     17\u001B[39m \u001B[38;5;28;01mfrom\u001B[39;00m\u001B[38;5;250m \u001B[39m\u001B[34;01m.\u001B[39;00m\u001B[34;01m_config\u001B[39;00m\u001B[38;5;250m \u001B[39m\u001B[38;5;28;01mimport\u001B[39;00m config_context, get_config\n\u001B[32m     18\u001B[39m \u001B[38;5;28;01mfrom\u001B[39;00m\u001B[38;5;250m \u001B[39m\u001B[34;01m.\u001B[39;00m\u001B[34;01mexceptions\u001B[39;00m\u001B[38;5;250m \u001B[39m\u001B[38;5;28;01mimport\u001B[39;00m InconsistentVersionWarning\n\u001B[32m---> \u001B[39m\u001B[32m19\u001B[39m \u001B[38;5;28;01mfrom\u001B[39;00m\u001B[38;5;250m \u001B[39m\u001B[34;01m.\u001B[39;00m\u001B[34;01mutils\u001B[39;00m\u001B[34;01m.\u001B[39;00m\u001B[34;01m_metadata_requests\u001B[39;00m\u001B[38;5;250m \u001B[39m\u001B[38;5;28;01mimport\u001B[39;00m _MetadataRequester, _routing_enabled\n\u001B[32m     20\u001B[39m \u001B[38;5;28;01mfrom\u001B[39;00m\u001B[38;5;250m \u001B[39m\u001B[34;01m.\u001B[39;00m\u001B[34;01mutils\u001B[39;00m\u001B[34;01m.\u001B[39;00m\u001B[34;01m_missing\u001B[39;00m\u001B[38;5;250m \u001B[39m\u001B[38;5;28;01mimport\u001B[39;00m is_scalar_nan\n\u001B[32m     21\u001B[39m \u001B[38;5;28;01mfrom\u001B[39;00m\u001B[38;5;250m \u001B[39m\u001B[34;01m.\u001B[39;00m\u001B[34;01mutils\u001B[39;00m\u001B[34;01m.\u001B[39;00m\u001B[34;01m_param_validation\u001B[39;00m\u001B[38;5;250m \u001B[39m\u001B[38;5;28;01mimport\u001B[39;00m validate_parameter_constraints\n",
      "\u001B[36mFile \u001B[39m\u001B[32m~/pytorch_basics/.venv/lib/python3.13/site-packages/sklearn/utils/__init__.py:9\u001B[39m\n\u001B[32m      7\u001B[39m \u001B[38;5;28;01mfrom\u001B[39;00m\u001B[38;5;250m \u001B[39m\u001B[34;01m.\u001B[39;00m\u001B[38;5;250m \u001B[39m\u001B[38;5;28;01mimport\u001B[39;00m metadata_routing\n\u001B[32m      8\u001B[39m \u001B[38;5;28;01mfrom\u001B[39;00m\u001B[38;5;250m \u001B[39m\u001B[34;01m.\u001B[39;00m\u001B[34;01m_bunch\u001B[39;00m\u001B[38;5;250m \u001B[39m\u001B[38;5;28;01mimport\u001B[39;00m Bunch\n\u001B[32m----> \u001B[39m\u001B[32m9\u001B[39m \u001B[38;5;28;01mfrom\u001B[39;00m\u001B[38;5;250m \u001B[39m\u001B[34;01m.\u001B[39;00m\u001B[34;01m_chunking\u001B[39;00m\u001B[38;5;250m \u001B[39m\u001B[38;5;28;01mimport\u001B[39;00m gen_batches, gen_even_slices\n\u001B[32m     11\u001B[39m \u001B[38;5;66;03m# Make _safe_indexing importable from here for backward compat as this particular\u001B[39;00m\n\u001B[32m     12\u001B[39m \u001B[38;5;66;03m# helper is considered semi-private and typically very useful for third-party\u001B[39;00m\n\u001B[32m     13\u001B[39m \u001B[38;5;66;03m# libraries that want to comply with scikit-learn's estimator API. In particular,\u001B[39;00m\n\u001B[32m     14\u001B[39m \u001B[38;5;66;03m# _safe_indexing was included in our public API documentation despite the leading\u001B[39;00m\n\u001B[32m     15\u001B[39m \u001B[38;5;66;03m# `_` in its name.\u001B[39;00m\n\u001B[32m     16\u001B[39m \u001B[38;5;28;01mfrom\u001B[39;00m\u001B[38;5;250m \u001B[39m\u001B[34;01m.\u001B[39;00m\u001B[34;01m_indexing\u001B[39;00m\u001B[38;5;250m \u001B[39m\u001B[38;5;28;01mimport\u001B[39;00m (\n\u001B[32m     17\u001B[39m     _safe_indexing,  \u001B[38;5;66;03m# noqa: F401\u001B[39;00m\n\u001B[32m     18\u001B[39m     resample,\n\u001B[32m     19\u001B[39m     shuffle,\n\u001B[32m     20\u001B[39m )\n",
      "\u001B[36mFile \u001B[39m\u001B[32m~/pytorch_basics/.venv/lib/python3.13/site-packages/sklearn/utils/_chunking.py:11\u001B[39m\n\u001B[32m      8\u001B[39m \u001B[38;5;28;01mimport\u001B[39;00m\u001B[38;5;250m \u001B[39m\u001B[34;01mnumpy\u001B[39;00m\u001B[38;5;250m \u001B[39m\u001B[38;5;28;01mas\u001B[39;00m\u001B[38;5;250m \u001B[39m\u001B[34;01mnp\u001B[39;00m\n\u001B[32m     10\u001B[39m \u001B[38;5;28;01mfrom\u001B[39;00m\u001B[38;5;250m \u001B[39m\u001B[34;01m.\u001B[39;00m\u001B[34;01m.\u001B[39;00m\u001B[34;01m_config\u001B[39;00m\u001B[38;5;250m \u001B[39m\u001B[38;5;28;01mimport\u001B[39;00m get_config\n\u001B[32m---> \u001B[39m\u001B[32m11\u001B[39m \u001B[38;5;28;01mfrom\u001B[39;00m\u001B[38;5;250m \u001B[39m\u001B[34;01m.\u001B[39;00m\u001B[34;01m_param_validation\u001B[39;00m\u001B[38;5;250m \u001B[39m\u001B[38;5;28;01mimport\u001B[39;00m Interval, validate_params\n\u001B[32m     14\u001B[39m \u001B[38;5;28;01mdef\u001B[39;00m\u001B[38;5;250m \u001B[39m\u001B[34mchunk_generator\u001B[39m(gen, chunksize):\n\u001B[32m     15\u001B[39m \u001B[38;5;250m    \u001B[39m\u001B[33;03m\"\"\"Chunk generator, ``gen`` into lists of length ``chunksize``. The last\u001B[39;00m\n\u001B[32m     16\u001B[39m \u001B[33;03m    chunk may have a length less than ``chunksize``.\"\"\"\u001B[39;00m\n",
      "\u001B[36mFile \u001B[39m\u001B[32m~/pytorch_basics/.venv/lib/python3.13/site-packages/sklearn/utils/_param_validation.py:17\u001B[39m\n\u001B[32m     14\u001B[39m \u001B[38;5;28;01mfrom\u001B[39;00m\u001B[38;5;250m \u001B[39m\u001B[34;01mscipy\u001B[39;00m\u001B[34;01m.\u001B[39;00m\u001B[34;01msparse\u001B[39;00m\u001B[38;5;250m \u001B[39m\u001B[38;5;28;01mimport\u001B[39;00m csr_matrix, issparse\n\u001B[32m     16\u001B[39m \u001B[38;5;28;01mfrom\u001B[39;00m\u001B[38;5;250m \u001B[39m\u001B[34;01m.\u001B[39;00m\u001B[34;01m.\u001B[39;00m\u001B[34;01m_config\u001B[39;00m\u001B[38;5;250m \u001B[39m\u001B[38;5;28;01mimport\u001B[39;00m config_context, get_config\n\u001B[32m---> \u001B[39m\u001B[32m17\u001B[39m \u001B[38;5;28;01mfrom\u001B[39;00m\u001B[38;5;250m \u001B[39m\u001B[34;01m.\u001B[39;00m\u001B[34;01mvalidation\u001B[39;00m\u001B[38;5;250m \u001B[39m\u001B[38;5;28;01mimport\u001B[39;00m _is_arraylike_not_scalar\n\u001B[32m     20\u001B[39m \u001B[38;5;28;01mclass\u001B[39;00m\u001B[38;5;250m \u001B[39m\u001B[34;01mInvalidParameterError\u001B[39;00m(\u001B[38;5;167;01mValueError\u001B[39;00m, \u001B[38;5;167;01mTypeError\u001B[39;00m):\n\u001B[32m     21\u001B[39m \u001B[38;5;250m    \u001B[39m\u001B[33;03m\"\"\"Custom exception to be raised when the parameter of a class/method/function\u001B[39;00m\n\u001B[32m     22\u001B[39m \u001B[33;03m    does not have a valid type or value.\u001B[39;00m\n\u001B[32m     23\u001B[39m \u001B[33;03m    \"\"\"\u001B[39;00m\n",
      "\u001B[36mFile \u001B[39m\u001B[32m~/pytorch_basics/.venv/lib/python3.13/site-packages/sklearn/utils/validation.py:21\u001B[39m\n\u001B[32m     19\u001B[39m \u001B[38;5;28;01mfrom\u001B[39;00m\u001B[38;5;250m \u001B[39m\u001B[34;01m.\u001B[39;00m\u001B[34;01m.\u001B[39;00m\u001B[38;5;250m \u001B[39m\u001B[38;5;28;01mimport\u001B[39;00m get_config \u001B[38;5;28;01mas\u001B[39;00m _get_config\n\u001B[32m     20\u001B[39m \u001B[38;5;28;01mfrom\u001B[39;00m\u001B[38;5;250m \u001B[39m\u001B[34;01m.\u001B[39;00m\u001B[34;01m.\u001B[39;00m\u001B[34;01mexceptions\u001B[39;00m\u001B[38;5;250m \u001B[39m\u001B[38;5;28;01mimport\u001B[39;00m DataConversionWarning, NotFittedError, PositiveSpectrumWarning\n\u001B[32m---> \u001B[39m\u001B[32m21\u001B[39m \u001B[38;5;28;01mfrom\u001B[39;00m\u001B[38;5;250m \u001B[39m\u001B[34;01m.\u001B[39;00m\u001B[34;01m.\u001B[39;00m\u001B[34;01mutils\u001B[39;00m\u001B[34;01m.\u001B[39;00m\u001B[34;01m_array_api\u001B[39;00m\u001B[38;5;250m \u001B[39m\u001B[38;5;28;01mimport\u001B[39;00m _asarray_with_order, _is_numpy_namespace, get_namespace\n\u001B[32m     22\u001B[39m \u001B[38;5;28;01mfrom\u001B[39;00m\u001B[38;5;250m \u001B[39m\u001B[34;01m.\u001B[39;00m\u001B[34;01m.\u001B[39;00m\u001B[34;01mutils\u001B[39;00m\u001B[34;01m.\u001B[39;00m\u001B[34;01mdeprecation\u001B[39;00m\u001B[38;5;250m \u001B[39m\u001B[38;5;28;01mimport\u001B[39;00m _deprecate_force_all_finite\n\u001B[32m     23\u001B[39m \u001B[38;5;28;01mfrom\u001B[39;00m\u001B[38;5;250m \u001B[39m\u001B[34;01m.\u001B[39;00m\u001B[34;01m.\u001B[39;00m\u001B[34;01mutils\u001B[39;00m\u001B[34;01m.\u001B[39;00m\u001B[34;01mfixes\u001B[39;00m\u001B[38;5;250m \u001B[39m\u001B[38;5;28;01mimport\u001B[39;00m ComplexWarning, _preserve_dia_indices_dtype\n",
      "\u001B[36mFile \u001B[39m\u001B[32m~/pytorch_basics/.venv/lib/python3.13/site-packages/sklearn/utils/_array_api.py:20\u001B[39m\n\u001B[32m     18\u001B[39m \u001B[38;5;28;01mfrom\u001B[39;00m\u001B[38;5;250m \u001B[39m\u001B[34;01m.\u001B[39;00m\u001B[34;01m.\u001B[39;00m\u001B[34;01mexternals\u001B[39;00m\u001B[38;5;250m \u001B[39m\u001B[38;5;28;01mimport\u001B[39;00m array_api_extra \u001B[38;5;28;01mas\u001B[39;00m xpx\n\u001B[32m     19\u001B[39m \u001B[38;5;28;01mfrom\u001B[39;00m\u001B[38;5;250m \u001B[39m\u001B[34;01m.\u001B[39;00m\u001B[34;01m.\u001B[39;00m\u001B[34;01mexternals\u001B[39;00m\u001B[34;01m.\u001B[39;00m\u001B[34;01marray_api_compat\u001B[39;00m\u001B[38;5;250m \u001B[39m\u001B[38;5;28;01mimport\u001B[39;00m numpy \u001B[38;5;28;01mas\u001B[39;00m np_compat\n\u001B[32m---> \u001B[39m\u001B[32m20\u001B[39m \u001B[38;5;28;01mfrom\u001B[39;00m\u001B[38;5;250m \u001B[39m\u001B[34;01m.\u001B[39;00m\u001B[34;01mfixes\u001B[39;00m\u001B[38;5;250m \u001B[39m\u001B[38;5;28;01mimport\u001B[39;00m parse_version\n\u001B[32m     22\u001B[39m \u001B[38;5;66;03m# TODO: complete __all__\u001B[39;00m\n\u001B[32m     23\u001B[39m __all__ = [\u001B[33m\"\u001B[39m\u001B[33mxpx\u001B[39m\u001B[33m\"\u001B[39m]  \u001B[38;5;66;03m# we import xpx here just to re-export it, need this to appease ruff\u001B[39;00m\n",
      "\u001B[36mFile \u001B[39m\u001B[32m~/pytorch_basics/.venv/lib/python3.13/site-packages/sklearn/utils/fixes.py:16\u001B[39m\n\u001B[32m     14\u001B[39m \u001B[38;5;28;01mimport\u001B[39;00m\u001B[38;5;250m \u001B[39m\u001B[34;01mscipy\u001B[39;00m\n\u001B[32m     15\u001B[39m \u001B[38;5;28;01mimport\u001B[39;00m\u001B[38;5;250m \u001B[39m\u001B[34;01mscipy\u001B[39;00m\u001B[34;01m.\u001B[39;00m\u001B[34;01msparse\u001B[39;00m\u001B[34;01m.\u001B[39;00m\u001B[34;01mlinalg\u001B[39;00m\n\u001B[32m---> \u001B[39m\u001B[32m16\u001B[39m \u001B[38;5;28;01mimport\u001B[39;00m\u001B[38;5;250m \u001B[39m\u001B[34;01mscipy\u001B[39;00m\u001B[34;01m.\u001B[39;00m\u001B[34;01mstats\u001B[39;00m\n\u001B[32m     17\u001B[39m \u001B[38;5;28;01mfrom\u001B[39;00m\u001B[38;5;250m \u001B[39m\u001B[34;01mscipy\u001B[39;00m\u001B[38;5;250m \u001B[39m\u001B[38;5;28;01mimport\u001B[39;00m optimize\n\u001B[32m     19\u001B[39m \u001B[38;5;28;01mtry\u001B[39;00m:\n",
      "\u001B[36mFile \u001B[39m\u001B[32m~/pytorch_basics/.venv/lib/python3.13/site-packages/scipy/stats/__init__.py:626\u001B[39m\n\u001B[32m      1\u001B[39m \u001B[33;03m\"\"\"\u001B[39;00m\n\u001B[32m      2\u001B[39m \u001B[33;03m.. _statsrefmanual:\u001B[39;00m\n\u001B[32m      3\u001B[39m \n\u001B[32m   (...)\u001B[39m\u001B[32m    621\u001B[39m \n\u001B[32m    622\u001B[39m \u001B[33;03m\"\"\"\u001B[39;00m  \u001B[38;5;66;03m# noqa: E501\u001B[39;00m\n\u001B[32m    624\u001B[39m \u001B[38;5;28;01mfrom\u001B[39;00m\u001B[38;5;250m \u001B[39m\u001B[34;01m.\u001B[39;00m\u001B[34;01m_warnings_errors\u001B[39;00m\u001B[38;5;250m \u001B[39m\u001B[38;5;28;01mimport\u001B[39;00m (ConstantInputWarning, NearConstantInputWarning,\n\u001B[32m    625\u001B[39m                                DegenerateDataWarning, FitError)\n\u001B[32m--> \u001B[39m\u001B[32m626\u001B[39m \u001B[38;5;28;01mfrom\u001B[39;00m\u001B[38;5;250m \u001B[39m\u001B[34;01m.\u001B[39;00m\u001B[34;01m_stats_py\u001B[39;00m\u001B[38;5;250m \u001B[39m\u001B[38;5;28;01mimport\u001B[39;00m *\n\u001B[32m    627\u001B[39m \u001B[38;5;28;01mfrom\u001B[39;00m\u001B[38;5;250m \u001B[39m\u001B[34;01m.\u001B[39;00m\u001B[34;01m_variation\u001B[39;00m\u001B[38;5;250m \u001B[39m\u001B[38;5;28;01mimport\u001B[39;00m variation\n\u001B[32m    628\u001B[39m \u001B[38;5;28;01mfrom\u001B[39;00m\u001B[38;5;250m \u001B[39m\u001B[34;01m.\u001B[39;00m\u001B[34;01mdistributions\u001B[39;00m\u001B[38;5;250m \u001B[39m\u001B[38;5;28;01mimport\u001B[39;00m *\n",
      "\u001B[36mFile \u001B[39m\u001B[32m~/pytorch_basics/.venv/lib/python3.13/site-packages/scipy/stats/_stats_py.py:42\u001B[39m\n\u001B[32m     39\u001B[39m \u001B[38;5;28;01mfrom\u001B[39;00m\u001B[38;5;250m \u001B[39m\u001B[34;01mscipy\u001B[39;00m\u001B[38;5;250m \u001B[39m\u001B[38;5;28;01mimport\u001B[39;00m sparse\n\u001B[32m     40\u001B[39m \u001B[38;5;28;01mfrom\u001B[39;00m\u001B[38;5;250m \u001B[39m\u001B[34;01mscipy\u001B[39;00m\u001B[34;01m.\u001B[39;00m\u001B[34;01mspatial\u001B[39;00m\u001B[38;5;250m \u001B[39m\u001B[38;5;28;01mimport\u001B[39;00m distance_matrix\n\u001B[32m---> \u001B[39m\u001B[32m42\u001B[39m \u001B[38;5;28;01mfrom\u001B[39;00m\u001B[38;5;250m \u001B[39m\u001B[34;01mscipy\u001B[39;00m\u001B[34;01m.\u001B[39;00m\u001B[34;01moptimize\u001B[39;00m\u001B[38;5;250m \u001B[39m\u001B[38;5;28;01mimport\u001B[39;00m milp, LinearConstraint\n\u001B[32m     43\u001B[39m \u001B[38;5;28;01mfrom\u001B[39;00m\u001B[38;5;250m \u001B[39m\u001B[34;01mscipy\u001B[39;00m\u001B[34;01m.\u001B[39;00m\u001B[34;01m_lib\u001B[39;00m\u001B[34;01m.\u001B[39;00m\u001B[34;01m_util\u001B[39;00m\u001B[38;5;250m \u001B[39m\u001B[38;5;28;01mimport\u001B[39;00m (check_random_state, _get_nan,\n\u001B[32m     44\u001B[39m                               _rename_parameter, _contains_nan,\n\u001B[32m     45\u001B[39m                               normalize_axis_index, np_vecdot, AxisError)\n\u001B[32m     46\u001B[39m \u001B[38;5;28;01mfrom\u001B[39;00m\u001B[38;5;250m \u001B[39m\u001B[34;01mscipy\u001B[39;00m\u001B[34;01m.\u001B[39;00m\u001B[34;01m_lib\u001B[39;00m\u001B[34;01m.\u001B[39;00m\u001B[34;01mdeprecation\u001B[39;00m\u001B[38;5;250m \u001B[39m\u001B[38;5;28;01mimport\u001B[39;00m _deprecate_positional_args, _deprecated\n",
      "\u001B[36mFile \u001B[39m\u001B[32m~/pytorch_basics/.venv/lib/python3.13/site-packages/scipy/optimize/__init__.py:435\u001B[39m\n\u001B[32m    433\u001B[39m \u001B[38;5;28;01mfrom\u001B[39;00m\u001B[38;5;250m \u001B[39m\u001B[34;01m.\u001B[39;00m\u001B[34;01m_nnls\u001B[39;00m\u001B[38;5;250m \u001B[39m\u001B[38;5;28;01mimport\u001B[39;00m nnls\n\u001B[32m    434\u001B[39m \u001B[38;5;28;01mfrom\u001B[39;00m\u001B[38;5;250m \u001B[39m\u001B[34;01m.\u001B[39;00m\u001B[34;01m_basinhopping\u001B[39;00m\u001B[38;5;250m \u001B[39m\u001B[38;5;28;01mimport\u001B[39;00m basinhopping\n\u001B[32m--> \u001B[39m\u001B[32m435\u001B[39m \u001B[38;5;28;01mfrom\u001B[39;00m\u001B[38;5;250m \u001B[39m\u001B[34;01m.\u001B[39;00m\u001B[34;01m_linprog\u001B[39;00m\u001B[38;5;250m \u001B[39m\u001B[38;5;28;01mimport\u001B[39;00m linprog, linprog_verbose_callback\n\u001B[32m    436\u001B[39m \u001B[38;5;28;01mfrom\u001B[39;00m\u001B[38;5;250m \u001B[39m\u001B[34;01m.\u001B[39;00m\u001B[34;01m_lsap\u001B[39;00m\u001B[38;5;250m \u001B[39m\u001B[38;5;28;01mimport\u001B[39;00m linear_sum_assignment\n\u001B[32m    437\u001B[39m \u001B[38;5;28;01mfrom\u001B[39;00m\u001B[38;5;250m \u001B[39m\u001B[34;01m.\u001B[39;00m\u001B[34;01m_differentialevolution\u001B[39;00m\u001B[38;5;250m \u001B[39m\u001B[38;5;28;01mimport\u001B[39;00m differential_evolution\n",
      "\u001B[36mFile \u001B[39m\u001B[32m~/pytorch_basics/.venv/lib/python3.13/site-packages/scipy/optimize/_linprog.py:22\u001B[39m\n\u001B[32m     20\u001B[39m \u001B[38;5;28;01mfrom\u001B[39;00m\u001B[38;5;250m \u001B[39m\u001B[34;01mwarnings\u001B[39;00m\u001B[38;5;250m \u001B[39m\u001B[38;5;28;01mimport\u001B[39;00m warn\n\u001B[32m     21\u001B[39m \u001B[38;5;28;01mfrom\u001B[39;00m\u001B[38;5;250m \u001B[39m\u001B[34;01m.\u001B[39;00m\u001B[34;01m_linprog_highs\u001B[39;00m\u001B[38;5;250m \u001B[39m\u001B[38;5;28;01mimport\u001B[39;00m _linprog_highs\n\u001B[32m---> \u001B[39m\u001B[32m22\u001B[39m \u001B[38;5;28;01mfrom\u001B[39;00m\u001B[38;5;250m \u001B[39m\u001B[34;01m.\u001B[39;00m\u001B[34;01m_linprog_ip\u001B[39;00m\u001B[38;5;250m \u001B[39m\u001B[38;5;28;01mimport\u001B[39;00m _linprog_ip\n\u001B[32m     23\u001B[39m \u001B[38;5;28;01mfrom\u001B[39;00m\u001B[38;5;250m \u001B[39m\u001B[34;01m.\u001B[39;00m\u001B[34;01m_linprog_simplex\u001B[39;00m\u001B[38;5;250m \u001B[39m\u001B[38;5;28;01mimport\u001B[39;00m _linprog_simplex\n\u001B[32m     24\u001B[39m \u001B[38;5;28;01mfrom\u001B[39;00m\u001B[38;5;250m \u001B[39m\u001B[34;01m.\u001B[39;00m\u001B[34;01m_linprog_rs\u001B[39;00m\u001B[38;5;250m \u001B[39m\u001B[38;5;28;01mimport\u001B[39;00m _linprog_rs\n",
      "\u001B[36mFile \u001B[39m\u001B[32m~/pytorch_basics/.venv/lib/python3.13/site-packages/scipy/optimize/_linprog_ip.py:27\u001B[39m\n\u001B[32m     25\u001B[39m \u001B[38;5;28;01mfrom\u001B[39;00m\u001B[38;5;250m \u001B[39m\u001B[34;01mscipy\u001B[39;00m\u001B[34;01m.\u001B[39;00m\u001B[34;01mlinalg\u001B[39;00m\u001B[38;5;250m \u001B[39m\u001B[38;5;28;01mimport\u001B[39;00m LinAlgError\n\u001B[32m     26\u001B[39m \u001B[38;5;28;01mfrom\u001B[39;00m\u001B[38;5;250m \u001B[39m\u001B[34;01m.\u001B[39;00m\u001B[34;01m_optimize\u001B[39;00m\u001B[38;5;250m \u001B[39m\u001B[38;5;28;01mimport\u001B[39;00m OptimizeWarning, OptimizeResult, _check_unknown_options\n\u001B[32m---> \u001B[39m\u001B[32m27\u001B[39m \u001B[38;5;28;01mfrom\u001B[39;00m\u001B[38;5;250m \u001B[39m\u001B[34;01m.\u001B[39;00m\u001B[34;01m_linprog_util\u001B[39;00m\u001B[38;5;250m \u001B[39m\u001B[38;5;28;01mimport\u001B[39;00m _postsolve\n\u001B[32m     28\u001B[39m has_umfpack = \u001B[38;5;28;01mTrue\u001B[39;00m\n\u001B[32m     29\u001B[39m has_cholmod = \u001B[38;5;28;01mTrue\u001B[39;00m\n",
      "\u001B[36mFile \u001B[39m\u001B[32m~/pytorch_basics/.venv/lib/python3.13/site-packages/scipy/optimize/_linprog_util.py:9\u001B[39m\n\u001B[32m      7\u001B[39m \u001B[38;5;28;01mfrom\u001B[39;00m\u001B[38;5;250m \u001B[39m\u001B[34;01mwarnings\u001B[39;00m\u001B[38;5;250m \u001B[39m\u001B[38;5;28;01mimport\u001B[39;00m warn\n\u001B[32m      8\u001B[39m \u001B[38;5;28;01mfrom\u001B[39;00m\u001B[38;5;250m \u001B[39m\u001B[34;01m.\u001B[39;00m\u001B[34;01m_optimize\u001B[39;00m\u001B[38;5;250m \u001B[39m\u001B[38;5;28;01mimport\u001B[39;00m OptimizeWarning\n\u001B[32m----> \u001B[39m\u001B[32m9\u001B[39m \u001B[38;5;28;01mfrom\u001B[39;00m\u001B[38;5;250m \u001B[39m\u001B[34;01mscipy\u001B[39;00m\u001B[34;01m.\u001B[39;00m\u001B[34;01moptimize\u001B[39;00m\u001B[34;01m.\u001B[39;00m\u001B[34;01m_remove_redundancy\u001B[39;00m\u001B[38;5;250m \u001B[39m\u001B[38;5;28;01mimport\u001B[39;00m (\n\u001B[32m     10\u001B[39m     _remove_redundancy_svd, _remove_redundancy_pivot_sparse,\n\u001B[32m     11\u001B[39m     _remove_redundancy_pivot_dense, _remove_redundancy_id\n\u001B[32m     12\u001B[39m     )\n\u001B[32m     13\u001B[39m \u001B[38;5;28;01mfrom\u001B[39;00m\u001B[38;5;250m \u001B[39m\u001B[34;01mcollections\u001B[39;00m\u001B[38;5;250m \u001B[39m\u001B[38;5;28;01mimport\u001B[39;00m namedtuple\n\u001B[32m     15\u001B[39m _LPProblem = namedtuple(\u001B[33m'\u001B[39m\u001B[33m_LPProblem\u001B[39m\u001B[33m'\u001B[39m,\n\u001B[32m     16\u001B[39m                         \u001B[33m'\u001B[39m\u001B[33mc A_ub b_ub A_eq b_eq bounds x0 integrality\u001B[39m\u001B[33m'\u001B[39m)\n",
      "\u001B[36mFile \u001B[39m\u001B[32m~/pytorch_basics/.venv/lib/python3.13/site-packages/scipy/optimize/_remove_redundancy.py:9\u001B[39m\n\u001B[32m      7\u001B[39m \u001B[38;5;28;01mimport\u001B[39;00m\u001B[38;5;250m \u001B[39m\u001B[34;01mnumpy\u001B[39;00m\u001B[38;5;250m \u001B[39m\u001B[38;5;28;01mas\u001B[39;00m\u001B[38;5;250m \u001B[39m\u001B[34;01mnp\u001B[39;00m\n\u001B[32m      8\u001B[39m \u001B[38;5;28;01mfrom\u001B[39;00m\u001B[38;5;250m \u001B[39m\u001B[34;01mscipy\u001B[39;00m\u001B[34;01m.\u001B[39;00m\u001B[34;01mlinalg\u001B[39;00m\u001B[38;5;250m \u001B[39m\u001B[38;5;28;01mimport\u001B[39;00m svd\n\u001B[32m----> \u001B[39m\u001B[32m9\u001B[39m \u001B[38;5;28;01mfrom\u001B[39;00m\u001B[38;5;250m \u001B[39m\u001B[34;01mscipy\u001B[39;00m\u001B[34;01m.\u001B[39;00m\u001B[34;01mlinalg\u001B[39;00m\u001B[34;01m.\u001B[39;00m\u001B[34;01minterpolative\u001B[39;00m\u001B[38;5;250m \u001B[39m\u001B[38;5;28;01mimport\u001B[39;00m interp_decomp\n\u001B[32m     10\u001B[39m \u001B[38;5;28;01mimport\u001B[39;00m\u001B[38;5;250m \u001B[39m\u001B[34;01mscipy\u001B[39;00m\n\u001B[32m     11\u001B[39m \u001B[38;5;28;01mfrom\u001B[39;00m\u001B[38;5;250m \u001B[39m\u001B[34;01mscipy\u001B[39;00m\u001B[34;01m.\u001B[39;00m\u001B[34;01mlinalg\u001B[39;00m\u001B[34;01m.\u001B[39;00m\u001B[34;01mblas\u001B[39;00m\u001B[38;5;250m \u001B[39m\u001B[38;5;28;01mimport\u001B[39;00m dtrsm\n",
      "\u001B[36mFile \u001B[39m\u001B[32m~/pytorch_basics/.venv/lib/python3.13/site-packages/scipy/linalg/interpolative.py:368\u001B[39m\n\u001B[32m      1\u001B[39m \u001B[38;5;66;03m#  ******************************************************************************\u001B[39;00m\n\u001B[32m      2\u001B[39m \u001B[38;5;66;03m#   Copyright (C) 2013 Kenneth L. Ho\u001B[39;00m\n\u001B[32m      3\u001B[39m \u001B[38;5;66;03m#\u001B[39;00m\n\u001B[32m   (...)\u001B[39m\u001B[32m     27\u001B[39m \u001B[38;5;66;03m#   POSSIBILITY OF SUCH DAMAGE.\u001B[39;00m\n\u001B[32m     28\u001B[39m \u001B[38;5;66;03m#  ******************************************************************************\u001B[39;00m\n\u001B[32m     30\u001B[39m \u001B[33mr\u001B[39m\u001B[33;03m\"\"\"\u001B[39;00m\n\u001B[32m     31\u001B[39m \u001B[33;03m======================================================================\u001B[39;00m\n\u001B[32m     32\u001B[39m \u001B[33;03mInterpolative matrix decomposition (:mod:`scipy.linalg.interpolative`)\u001B[39;00m\n\u001B[32m   (...)\u001B[39m\u001B[32m    365\u001B[39m \n\u001B[32m    366\u001B[39m \u001B[33;03m\"\"\"\u001B[39;00m\n\u001B[32m--> \u001B[39m\u001B[32m368\u001B[39m \u001B[38;5;28;01mimport\u001B[39;00m\u001B[38;5;250m \u001B[39m\u001B[34;01mscipy\u001B[39;00m\u001B[34;01m.\u001B[39;00m\u001B[34;01mlinalg\u001B[39;00m\u001B[34;01m.\u001B[39;00m\u001B[34;01m_decomp_interpolative\u001B[39;00m\u001B[38;5;250m \u001B[39m\u001B[38;5;28;01mas\u001B[39;00m\u001B[38;5;250m \u001B[39m\u001B[34;01m_backend\u001B[39;00m\n\u001B[32m    369\u001B[39m \u001B[38;5;28;01mimport\u001B[39;00m\u001B[38;5;250m \u001B[39m\u001B[34;01mnumpy\u001B[39;00m\u001B[38;5;250m \u001B[39m\u001B[38;5;28;01mas\u001B[39;00m\u001B[38;5;250m \u001B[39m\u001B[34;01mnp\u001B[39;00m\n\u001B[32m    370\u001B[39m \u001B[38;5;28;01mimport\u001B[39;00m\u001B[38;5;250m \u001B[39m\u001B[34;01mwarnings\u001B[39;00m\n",
      "\u001B[36mFile \u001B[39m\u001B[32mscipy/linalg/_decomp_interpolative.pyx:116\u001B[39m, in \u001B[36minit scipy.linalg._decomp_interpolative\u001B[39m\u001B[34m()\u001B[39m\n",
      "\u001B[36mFile \u001B[39m\u001B[32m~/pytorch_basics/.venv/lib/python3.13/site-packages/scipy/fft/__init__.py:86\u001B[39m\n\u001B[32m      1\u001B[39m \u001B[33;03m\"\"\"\u001B[39;00m\n\u001B[32m      2\u001B[39m \u001B[33;03m==============================================\u001B[39;00m\n\u001B[32m      3\u001B[39m \u001B[33;03mDiscrete Fourier transforms (:mod:`scipy.fft`)\u001B[39;00m\n\u001B[32m   (...)\u001B[39m\u001B[32m     83\u001B[39m \n\u001B[32m     84\u001B[39m \u001B[33;03m\"\"\"\u001B[39;00m\n\u001B[32m---> \u001B[39m\u001B[32m86\u001B[39m \u001B[38;5;28;01mfrom\u001B[39;00m\u001B[38;5;250m \u001B[39m\u001B[34;01m.\u001B[39;00m\u001B[34;01m_basic\u001B[39;00m\u001B[38;5;250m \u001B[39m\u001B[38;5;28;01mimport\u001B[39;00m (\n\u001B[32m     87\u001B[39m     fft, ifft, fft2, ifft2, fftn, ifftn,\n\u001B[32m     88\u001B[39m     rfft, irfft, rfft2, irfft2, rfftn, irfftn,\n\u001B[32m     89\u001B[39m     hfft, ihfft, hfft2, ihfft2, hfftn, ihfftn)\n\u001B[32m     90\u001B[39m \u001B[38;5;28;01mfrom\u001B[39;00m\u001B[38;5;250m \u001B[39m\u001B[34;01m.\u001B[39;00m\u001B[34;01m_realtransforms\u001B[39;00m\u001B[38;5;250m \u001B[39m\u001B[38;5;28;01mimport\u001B[39;00m dct, idct, dst, idst, dctn, idctn, dstn, idstn\n\u001B[32m     91\u001B[39m \u001B[38;5;28;01mfrom\u001B[39;00m\u001B[38;5;250m \u001B[39m\u001B[34;01m.\u001B[39;00m\u001B[34;01m_fftlog\u001B[39;00m\u001B[38;5;250m \u001B[39m\u001B[38;5;28;01mimport\u001B[39;00m fht, ifht, fhtoffset\n",
      "\u001B[36mFile \u001B[39m\u001B[32m~/pytorch_basics/.venv/lib/python3.13/site-packages/scipy/fft/_basic.py:1\u001B[39m\n\u001B[32m----> \u001B[39m\u001B[32m1\u001B[39m \u001B[38;5;28;01mfrom\u001B[39;00m\u001B[38;5;250m \u001B[39m\u001B[34;01mscipy\u001B[39;00m\u001B[34;01m.\u001B[39;00m\u001B[34;01m_lib\u001B[39;00m\u001B[34;01m.\u001B[39;00m\u001B[34;01muarray\u001B[39;00m\u001B[38;5;250m \u001B[39m\u001B[38;5;28;01mimport\u001B[39;00m generate_multimethod, Dispatchable\n\u001B[32m      2\u001B[39m \u001B[38;5;28;01mimport\u001B[39;00m\u001B[38;5;250m \u001B[39m\u001B[34;01mnumpy\u001B[39;00m\u001B[38;5;250m \u001B[39m\u001B[38;5;28;01mas\u001B[39;00m\u001B[38;5;250m \u001B[39m\u001B[34;01mnp\u001B[39;00m\n\u001B[32m      5\u001B[39m \u001B[38;5;28;01mdef\u001B[39;00m\u001B[38;5;250m \u001B[39m\u001B[34m_x_replacer\u001B[39m(args, kwargs, dispatchables):\n",
      "\u001B[36mFile \u001B[39m\u001B[32m~/pytorch_basics/.venv/lib/python3.13/site-packages/scipy/_lib/uarray.py:28\u001B[39m\n\u001B[32m     26\u001B[39m     \u001B[38;5;28;01mfrom\u001B[39;00m\u001B[38;5;250m \u001B[39m\u001B[34;01muarray\u001B[39;00m\u001B[38;5;250m \u001B[39m\u001B[38;5;28;01mimport\u001B[39;00m _Function\n\u001B[32m     27\u001B[39m \u001B[38;5;28;01melse\u001B[39;00m:\n\u001B[32m---> \u001B[39m\u001B[32m28\u001B[39m     \u001B[38;5;28;01mfrom\u001B[39;00m\u001B[38;5;250m \u001B[39m\u001B[34;01m.\u001B[39;00m\u001B[34;01m_uarray\u001B[39;00m\u001B[38;5;250m \u001B[39m\u001B[38;5;28;01mimport\u001B[39;00m *  \u001B[38;5;66;03m# noqa: F403\u001B[39;00m\n\u001B[32m     29\u001B[39m     \u001B[38;5;28;01mfrom\u001B[39;00m\u001B[38;5;250m \u001B[39m\u001B[34;01m.\u001B[39;00m\u001B[34;01m_uarray\u001B[39;00m\u001B[38;5;250m \u001B[39m\u001B[38;5;28;01mimport\u001B[39;00m _Function  \u001B[38;5;66;03m# noqa: F401\u001B[39;00m\n\u001B[32m     31\u001B[39m \u001B[38;5;28;01mdel\u001B[39;00m _has_uarray\n",
      "\u001B[36mFile \u001B[39m\u001B[32m~/pytorch_basics/.venv/lib/python3.13/site-packages/scipy/_lib/_uarray/__init__.py:115\u001B[39m\n\u001B[32m      1\u001B[39m \u001B[33;03m\"\"\"\u001B[39;00m\n\u001B[32m      2\u001B[39m \u001B[33;03m.. note:\u001B[39;00m\n\u001B[32m      3\u001B[39m \u001B[33;03m    If you are looking for overrides for NumPy-specific methods, see the\u001B[39;00m\n\u001B[32m   (...)\u001B[39m\u001B[32m    112\u001B[39m \u001B[33;03mwill not be possible.\u001B[39;00m\n\u001B[32m    113\u001B[39m \u001B[33;03m\"\"\"\u001B[39;00m\n\u001B[32m--> \u001B[39m\u001B[32m115\u001B[39m \u001B[38;5;28;01mfrom\u001B[39;00m\u001B[38;5;250m \u001B[39m\u001B[34;01m.\u001B[39;00m\u001B[34;01m_backend\u001B[39;00m\u001B[38;5;250m \u001B[39m\u001B[38;5;28;01mimport\u001B[39;00m *\n\u001B[32m    116\u001B[39m __version__ = \u001B[33m'\u001B[39m\u001B[33m0.8.8.dev0+aa94c5a4.scipy\u001B[39m\u001B[33m'\u001B[39m\n",
      "\u001B[36mFile \u001B[39m\u001B[32m~/pytorch_basics/.venv/lib/python3.13/site-packages/scipy/_lib/_uarray/_backend.py:5\u001B[39m\n\u001B[32m      3\u001B[39m \u001B[38;5;28;01mimport\u001B[39;00m\u001B[38;5;250m \u001B[39m\u001B[34;01minspect\u001B[39;00m\n\u001B[32m      4\u001B[39m \u001B[38;5;28;01mimport\u001B[39;00m\u001B[38;5;250m \u001B[39m\u001B[34;01mfunctools\u001B[39;00m\n\u001B[32m----> \u001B[39m\u001B[32m5\u001B[39m \u001B[38;5;28;01mfrom\u001B[39;00m\u001B[38;5;250m \u001B[39m\u001B[34;01m.\u001B[39;00m\u001B[38;5;250m \u001B[39m\u001B[38;5;28;01mimport\u001B[39;00m _uarray\n\u001B[32m      6\u001B[39m \u001B[38;5;28;01mimport\u001B[39;00m\u001B[38;5;250m \u001B[39m\u001B[34;01mcopyreg\u001B[39;00m\n\u001B[32m      7\u001B[39m \u001B[38;5;28;01mimport\u001B[39;00m\u001B[38;5;250m \u001B[39m\u001B[34;01mpickle\u001B[39;00m\n",
      "\u001B[31mKeyboardInterrupt\u001B[39m: "
     ]
    }
   ],
   "execution_count": 1
  },
  {
   "metadata": {},
   "cell_type": "code",
   "source": [
    "device = \"mps\" if torch.backends.mps.is_available() else \"cpu\"\n",
    "device"
   ],
   "id": "90f3493a806adf53",
   "outputs": [],
   "execution_count": null
  },
  {
   "metadata": {},
   "cell_type": "code",
   "source": "torch.manual_seed(42)\n",
   "id": "b56147c1891d3d59",
   "outputs": [],
   "execution_count": null
  },
  {
   "metadata": {},
   "cell_type": "code",
   "source": "df = pd.read_csv('./fashion-mnist_train.csv')",
   "id": "414fb27e1e4c1a52",
   "outputs": [],
   "execution_count": null
  },
  {
   "metadata": {},
   "cell_type": "code",
   "source": "df.shape",
   "id": "83230b1477418680",
   "outputs": [],
   "execution_count": null
  },
  {
   "metadata": {},
   "cell_type": "code",
   "source": [
    "fig,axes = plt.subplots(4,4,figsize=(10,10))\n",
    "fig.suptitle(\"16 images\")\n",
    "for i,ax in enumerate(axes.flat):\n",
    "    img = df.iloc[i,1:].values.reshape(28,28)\n",
    "    ax.imshow(img)\n",
    "    ax.axis('off')\n",
    "    ax.set_title(f\"label {df.iloc[i,0]}\")\n",
    "\n",
    "plt.tight_layout(rect=[0,0,1,1])\n",
    "plt.show()"
   ],
   "id": "c2e50a18f992fa1a",
   "outputs": [],
   "execution_count": null
  },
  {
   "metadata": {},
   "cell_type": "code",
   "source": [
    "x = df.iloc[:,1:].values\n",
    "y = df.iloc[:,0].values"
   ],
   "id": "f3f2a45bc7450c96",
   "outputs": [],
   "execution_count": null
  },
  {
   "metadata": {},
   "cell_type": "code",
   "source": "xtrain,xtest,ytrain,ytest = train_test_split(x,y,test_size=0.2,random_state=42)",
   "id": "8c357ddaf18151a3",
   "outputs": [],
   "execution_count": null
  },
  {
   "metadata": {},
   "cell_type": "code",
   "source": [
    "xtrain = xtrain/255.0\n",
    "xtest = xtest/255.0\n",
    "xtrain.shape"
   ],
   "id": "66c309fdf1a538e8",
   "outputs": [],
   "execution_count": null
  },
  {
   "metadata": {},
   "cell_type": "code",
   "source": [
    "class customdataset(Dataset):\n",
    "    def __init__(self,features,labels):\n",
    "        self.features = torch.tensor(features,dtype=torch.float32)\n",
    "        self.labels = torch.tensor(labels,dtype=torch.long)\n",
    "\n",
    "    def __len__(self):\n",
    "        return len(self.features)\n",
    "\n",
    "    def __getitem__(self, idx):\n",
    "        return self.features[idx],self.labels[idx]\n"
   ],
   "id": "4448756e71f24a15",
   "outputs": [],
   "execution_count": null
  },
  {
   "metadata": {},
   "cell_type": "code",
   "source": [
    "traindataset = customdataset(xtrain,ytrain)\n",
    "len(traindataset)"
   ],
   "id": "44dcd04f62e8ba34",
   "outputs": [],
   "execution_count": null
  },
  {
   "metadata": {},
   "cell_type": "code",
   "source": "traindataset[0]",
   "id": "da79c8cb6c0f359f",
   "outputs": [],
   "execution_count": null
  },
  {
   "metadata": {},
   "cell_type": "code",
   "source": [
    "testdataset = customdataset(xtest,ytest)\n",
    "len(testdataset)"
   ],
   "id": "a7be7073495570b1",
   "outputs": [],
   "execution_count": null
  },
  {
   "metadata": {},
   "cell_type": "code",
   "source": [
    "trainloader = DataLoader(traindataset,batch_size=32,shuffle=True,pin_memory=True)\n",
    "testloader = DataLoader(testdataset,batch_size=32,shuffle=False,pin_memory=True)"
   ],
   "id": "4c6bc3bc04b9982",
   "outputs": [],
   "execution_count": null
  },
  {
   "metadata": {},
   "cell_type": "code",
   "source": [
    "# class MyNN(nn.Module):\n",
    "#     def __init__(self,numfeatures):\n",
    "#         super().__init__()\n",
    "#         self.model = nn.Sequential(nn.Linear(numfeatures,128),nn.ReLU(),nn.Linear(128,64),nn.ReLU(),nn.Linear(64,10))\n",
    "#\n",
    "#     def forward(self,x):\n",
    "#         return self.model(x)\n"
   ],
   "id": "556868ce2ba582de",
   "outputs": [],
   "execution_count": null
  },
  {
   "metadata": {},
   "cell_type": "code",
   "source": [
    "# epochs = 100\n",
    "# lr = 0.1"
   ],
   "id": "a3ead100f8cd56d8",
   "outputs": [],
   "execution_count": null
  },
  {
   "metadata": {},
   "cell_type": "code",
   "source": [
    "# model = MyNN(xtrain.shape[1]).to(device)\n",
    "# criterion = nn.CrossEntropyLoss()\n",
    "# optimizer = optim.SGD(model.parameters(),lr=lr)"
   ],
   "id": "b2a48ed8156f73e9",
   "outputs": [],
   "execution_count": null
  },
  {
   "metadata": {},
   "cell_type": "code",
   "source": [
    "# for epoch in range(epochs):\n",
    "#     for batchfeatures,batchlabels in trainloader:\n",
    "#         batchfeatures = batchfeatures.to(device)\n",
    "#         batchlabels = batchlabels.to(device)\n",
    "#         output = model(batchfeatures).to(device)\n",
    "#         loss = criterion(output,batchlabels)\n",
    "#         optimizer.zero_grad()\n",
    "#         loss.backward()\n",
    "#         optimizer.step()\n",
    "#     print(f\"epoch {epoch+1}, loss: {loss.item():.4f}\")\n"
   ],
   "id": "5a400429c37011fe",
   "outputs": [],
   "execution_count": null
  },
  {
   "metadata": {},
   "cell_type": "code",
   "source": "# model.eval()",
   "id": "3e150dfefeabbeab",
   "outputs": [],
   "execution_count": null
  },
  {
   "metadata": {},
   "cell_type": "code",
   "source": [
    "# total =0\n",
    "# correct = 0\n",
    "# with torch.no_grad():\n",
    "#     for batchfeatures,batchlabels in trainloader:\n",
    "#         batchfeatures = batchfeatures.to(device)\n",
    "#         batchlabels = batchlabels.to(device)\n",
    "#         output = model(batchfeatures).to(device)\n",
    "#         _, predicted = torch.max(output.data,1)\n",
    "#         total += batchlabels.shape[0]\n",
    "#         correct = correct + predicted.eq(batchlabels).sum().item()\n",
    "# print(correct/total)"
   ],
   "id": "1b079ae8fe5b7548",
   "outputs": [],
   "execution_count": null
  },
  {
   "metadata": {},
   "cell_type": "code",
   "source": [
    "#test acc = 88\n",
    "#train ac 97\n",
    "# gap - 9 percent\n",
    "# applying diff techniues to reduce overfitting"
   ],
   "id": "3f085646d607ed12",
   "outputs": [],
   "execution_count": null
  },
  {
   "metadata": {},
   "cell_type": "markdown",
   "source": [
    "# dropout - > turning off neurons in between to maximize acc\n",
    "applied after ReLu function"
   ],
   "id": "363ad7dc18f10b2b"
  },
  {
   "metadata": {},
   "cell_type": "markdown",
   "source": [
    "# Batch normalization - > during every mini batch,i.e, to  hidden layers to tabilize the change in weights from one layer to another\n",
    "applied after every layer,before activation functions"
   ],
   "id": "d4fc621dcafcff8"
  },
  {
   "metadata": {},
   "cell_type": "code",
   "source": [
    "class MyNN(nn.Module):\n",
    "    def __init__(self,numfeatures):\n",
    "        super().__init__()\n",
    "        self.model = nn.Sequential(nn.Linear(numfeatures,128),\n",
    "                                   nn.BatchNorm1d(128),\n",
    "                                   nn.ReLU(),\n",
    "                                   nn.Dropout(p=0.3),\n",
    "                                   nn.Linear(128,64),\n",
    "                                   nn.BatchNorm1d(64),\n",
    "                                   nn.ReLU(),\n",
    "                                   nn.Dropout(p=0.3),\n",
    "                                   nn.Linear(64,10))\n",
    "\n",
    "    def forward(self,x):\n",
    "        return self.model(x)"
   ],
   "id": "5da8f53388ac8434",
   "outputs": [],
   "execution_count": null
  },
  {
   "metadata": {},
   "cell_type": "markdown",
   "source": "# Regularization - > is applied to weights of model to apply penalty for large values by adding penalty, so that we get smaller or stable weights",
   "id": "6490b337e9b134eb"
  },
  {
   "metadata": {},
   "cell_type": "code",
   "source": [
    "model = MyNN(xtrain.shape[1]).to(device)\n",
    "criterion = nn.CrossEntropyLoss()\n",
    "optimizer = optim.SGD(model.parameters(),lr=lr,weight_decay=1e-4)"
   ],
   "id": "db5a1441404921cf",
   "outputs": [],
   "execution_count": null
  },
  {
   "metadata": {},
   "cell_type": "code",
   "source": [
    "#test acc - 89\n",
    "#train acc - 94\n",
    "# gap - 5 percent"
   ],
   "id": "1701f163fcb72fb6",
   "outputs": [],
   "execution_count": null
  },
  {
   "metadata": {},
   "cell_type": "code",
   "source": "",
   "id": "9c3a466cbb6fc397",
   "outputs": [],
   "execution_count": null
  },
  {
   "metadata": {},
   "cell_type": "code",
   "source": [
    "class NewNN(nn.Module):\n",
    "    def __init__(self,input_dim,output_dim,neurons_per_layer,num_hidden_layers,dropout):\n",
    "        super().__init__()\n",
    "        layers = []\n",
    "        for i in range(num_hidden_layers):\n",
    "            layers.append(nn.Linear(input_dim,neurons_per_layer))\n",
    "            layers.append(nn.BatchNorm1d(neurons_per_layer))\n",
    "            layers.append(nn.ReLU())\n",
    "            layers.append(nn.Dropout(dropout))\n",
    "            input_dim = neurons_per_layer\n",
    "        layers.append(nn.Linear(neurons_per_layer,output_dim))\n",
    "        self.model = nn.Sequential(*layers)\n",
    "\n",
    "    def forward(self,x):\n",
    "        return self.model(x)"
   ],
   "id": "30d4bebdd055cf54",
   "outputs": [],
   "execution_count": null
  },
  {
   "metadata": {},
   "cell_type": "code",
   "source": [
    "def objective(trial):\n",
    "    num_hidden_layers = trial.suggest_int(\"num_hidden_layers\",1,5)\n",
    "    neurons_per_layer = trial.suggest_int(\"neurons_per_layer\",8,128,step=8)\n",
    "    epochs = trial.suggest_int(\"epochs\",10,50,step=10)\n",
    "    learning_rate = trial.suggest_float(\"learning_rate\",1e-5,1e-1,log=True)\n",
    "    dropout = trial.suggest_float(\"dropout\",0.1,0.5,step=0.1)\n",
    "    batch_size = trial.suggest_categorical(\"batch_size\",[16,32,64,128])\n",
    "    optimizer = trial.suggest_categorical(\"optimizer\",[\"SGD\",\"Adam\",\"RMSprop\"])\n",
    "    weight_decay = trial.suggest_float(\"weight_decay\",1e-5,1e-3,log=True)\n",
    "\n",
    "    trainloader = DataLoader(traindataset,batch_size=batch_size,shuffle=True,pin_memory=True)\n",
    "    testloader = DataLoader(testdataset,batch_size=batch_size,shuffle=False,pin_memory=True)\n",
    "\n",
    "    input_dim =784\n",
    "    output_dim = 10\n",
    "    model = NewNN(input_dim,output_dim,neurons_per_layer,num_hidden_layers,dropout)\n",
    "    model.to(device)\n",
    "\n",
    "    criterion = nn.CrossEntropyLoss()\n",
    "    if optimizer == \"SGD\":\n",
    "        optimizer = optim.SGD(model.parameters(),lr=learning_rate,weight_decay=weight_decay)\n",
    "    elif optimizer == \"Adam\":\n",
    "        optimizer = optim.Adam(model.parameters(),lr=learning_rate,weight_decay=weight_decay)\n",
    "    else:\n",
    "        optimizer = optim.RMSprop(model.parameters(),lr=learning_rate,weight_decay=weight_decay)\n",
    "\n",
    "    for epoch in range(epochs):\n",
    "        for batchfeatures,batchlabels in trainloader:\n",
    "            batchfeatures = batchfeatures.to(device)\n",
    "            batchlabels = batchlabels.to(device)\n",
    "            output = model(batchfeatures).to(device)\n",
    "            loss = criterion(output,batchlabels)\n",
    "            optimizer.zero_grad()\n",
    "            loss.backward()\n",
    "            optimizer.step()\n",
    "\n",
    "    model.eval()\n",
    "\n",
    "    total =0\n",
    "    correct = 0\n",
    "    with torch.no_grad():\n",
    "        for batchfeatures,batchlabels in trainloader:\n",
    "            batchfeatures = batchfeatures.to(device)\n",
    "            batchlabels = batchlabels.to(device)\n",
    "            output = model(batchfeatures).to(device)\n",
    "            _, predicted = torch.max(output.data,1)\n",
    "            total += batchlabels.shape[0]\n",
    "            correct = correct + predicted.eq(batchlabels).sum().item()\n",
    "        acc = correct/total\n",
    "    return acc\n"
   ],
   "id": "7221499b3a00d44c",
   "outputs": [],
   "execution_count": null
  },
  {
   "metadata": {},
   "cell_type": "code",
   "source": [
    "import optuna\n",
    "study = optuna.create_study(direction=\"maximize\")\n",
    "study.optimize(objective,n_trials=10)"
   ],
   "id": "9f8e6ba71c056d0f",
   "outputs": [],
   "execution_count": null
  },
  {
   "metadata": {},
   "cell_type": "code",
   "source": "study.best_params,study.best_value",
   "id": "fd122e9474aaec58",
   "outputs": [],
   "execution_count": null
  },
  {
   "metadata": {},
   "cell_type": "code",
   "source": "",
   "id": "a93d6461a2bacaae",
   "outputs": [],
   "execution_count": null
  }
 ],
 "metadata": {
  "kernelspec": {
   "display_name": "Python 3",
   "language": "python",
   "name": "python3"
  },
  "language_info": {
   "codemirror_mode": {
    "name": "ipython",
    "version": 2
   },
   "file_extension": ".py",
   "mimetype": "text/x-python",
   "name": "python",
   "nbconvert_exporter": "python",
   "pygments_lexer": "ipython2",
   "version": "2.7.6"
  }
 },
 "nbformat": 4,
 "nbformat_minor": 5
}
