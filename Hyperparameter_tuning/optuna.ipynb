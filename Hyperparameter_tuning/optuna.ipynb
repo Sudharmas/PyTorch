{
 "cells": [
  {
   "cell_type": "code",
   "id": "initial_id",
   "metadata": {
    "collapsed": true
   },
   "source": "# !pip install optuna",
   "outputs": [],
   "execution_count": null
  },
  {
   "metadata": {},
   "cell_type": "code",
   "source": [
    "import optuna\n",
    "from optuna.visualization import plot_parallel_coordinate\n",
    "from sklearn.datasets import load_diabetes\n",
    "from sklearn.metrics import accuracy_score\n",
    "from sklearn.model_selection import train_test_split\n",
    "from sklearn.preprocessing import StandardScaler\n",
    "import pandas as pd"
   ],
   "id": "c6398021cbfeb57c",
   "outputs": [],
   "execution_count": null
  },
  {
   "metadata": {},
   "cell_type": "code",
   "source": "url = \"pima-indians-diabetes.data.csv\"",
   "id": "fe9351e750bfefb6",
   "outputs": [],
   "execution_count": null
  },
  {
   "metadata": {},
   "cell_type": "code",
   "source": "columns = ['Pregnancies','Glucose','BloodPressure','SkinThickness','Insulin','BMI','DiabetesPedigreeFunction','Age','Outcome']",
   "id": "b42e7410becf902",
   "outputs": [],
   "execution_count": null
  },
  {
   "metadata": {},
   "cell_type": "code",
   "source": [
    "df = pd.read_csv(url, names=columns)\n",
    "df.head()"
   ],
   "id": "9996ddb87e0214c7",
   "outputs": [],
   "execution_count": null
  },
  {
   "metadata": {},
   "cell_type": "code",
   "source": [
    "df.fillna(0, inplace=True)\n",
    "df.isna()"
   ],
   "id": "bf39e06d2892314f",
   "outputs": [],
   "execution_count": null
  },
  {
   "metadata": {},
   "cell_type": "code",
   "source": "import numpy as np",
   "id": "a1c1318672a9a940",
   "outputs": [],
   "execution_count": null
  },
  {
   "metadata": {},
   "cell_type": "code",
   "source": [
    "colswithmissingvalues = ['Glucose','BloodPressure','SkinThickness','Insulin','BMI']\n",
    "df[colswithmissingvalues]=df[colswithmissingvalues].replace(0,np.nan)"
   ],
   "id": "d788596ff667cc77",
   "outputs": [],
   "execution_count": null
  },
  {
   "metadata": {},
   "cell_type": "code",
   "source": [
    "x = df.drop('Outcome',axis=1)\n",
    "y = df['Outcome']"
   ],
   "id": "bcee064de0bda77f",
   "outputs": [],
   "execution_count": null
  },
  {
   "metadata": {},
   "cell_type": "code",
   "source": "xtrain,xtest,ytrain,ytest = train_test_split(x,y,test_size=0.3,random_state=42)",
   "id": "68f41ad7d3a8661d",
   "outputs": [],
   "execution_count": null
  },
  {
   "metadata": {},
   "cell_type": "code",
   "source": [
    "scaler = StandardScaler()\n",
    "xtrain = scaler.fit_transform(xtrain)\n",
    "xtest = scaler.transform(xtest)"
   ],
   "id": "8ef0b50a62977b79",
   "outputs": [],
   "execution_count": null
  },
  {
   "metadata": {},
   "cell_type": "code",
   "source": [
    "from sklearn.ensemble import RandomForestClassifier, GradientBoostingClassifier\n",
    "from sklearn.model_selection import cross_val_score"
   ],
   "id": "b03e75cc889d9fca",
   "outputs": [],
   "execution_count": null
  },
  {
   "metadata": {},
   "cell_type": "code",
   "source": [
    "def objective(trial):\n",
    "    n_estimators = trial.suggest_int('n_estimators', 50,200)\n",
    "    max_depth = trial.suggest_int('max_depth', 3,20)\n",
    "    models = RandomForestClassifier(n_estimators=n_estimators,max_depth=max_depth)\n",
    "\n",
    "    score = cross_val_score(models, xtrain, ytrain, cv=3, scoring='accuracy').mean()\n",
    "    return score"
   ],
   "id": "9bef502eb51a3e8a",
   "outputs": [],
   "execution_count": null
  },
  {
   "metadata": {},
   "cell_type": "code",
   "source": [
    "study =optuna.create_study(direction='maximize',sampler=optuna.samplers.TPESampler())\n",
    "study.optimize(objective,n_trials=50)"
   ],
   "id": "7c4f63369bc0254c",
   "outputs": [],
   "execution_count": null
  },
  {
   "metadata": {},
   "cell_type": "code",
   "source": [
    "print(f'best trial: {study.best_params}')\n",
    "print(study.best_value)"
   ],
   "id": "a625ba99bc4c2b16",
   "outputs": [],
   "execution_count": null
  },
  {
   "metadata": {},
   "cell_type": "code",
   "source": [
    "bestmodel = RandomForestClassifier(**study.best_params,random_state=42)\n",
    "bestmodel.fit(xtrain,ytrain)\n",
    "ypred = bestmodel.predict(xtest)\n",
    "acc = accuracy_score(ytest,ypred)\n",
    "print(acc)"
   ],
   "id": "443460d91e1180a7",
   "outputs": [],
   "execution_count": null
  },
  {
   "metadata": {},
   "cell_type": "code",
   "source": [
    "search_space = {\n",
    "    'n_estimators':[50,100,150,200],\n",
    "    'max_depth':[5,10,15,20],\n",
    "}"
   ],
   "id": "28c03ec111af1ac2",
   "outputs": [],
   "execution_count": null
  },
  {
   "metadata": {},
   "cell_type": "code",
   "source": [
    "study = optuna.create_study(direction='maximize',sampler=optuna.samplers.GridSampler(search_space))\n",
    "study.optimize(objective)"
   ],
   "id": "4883e5ffe29fe61c",
   "outputs": [],
   "execution_count": null
  },
  {
   "metadata": {},
   "cell_type": "code",
   "source": [
    "bestmodel = RandomForestClassifier(**study.best_trial.params,random_state=42)\n",
    "bestmodel.fit(xtrain,ytrain)\n",
    "ypred = bestmodel.predict(xtest)\n",
    "acc = accuracy_score(ytest,ypred)\n",
    "print(acc)"
   ],
   "id": "9fd7e26dab2f9f64",
   "outputs": [],
   "execution_count": null
  },
  {
   "metadata": {},
   "cell_type": "code",
   "source": [
    "from optuna.visualization import plot_parallel_coordinate,plot_optimization_history,plot_slice,plot_contour,plot_param_importances\n",
    "import plotly\n",
    "from plotly import __version__ as plotly_version\n",
    "import matplotlib.pyplot as plt"
   ],
   "id": "e7ff29f406c2effc",
   "outputs": [],
   "execution_count": null
  },
  {
   "metadata": {},
   "cell_type": "code",
   "source": "",
   "id": "215cfcad1e06043",
   "outputs": [],
   "execution_count": null
  },
  {
   "metadata": {},
   "cell_type": "code",
   "source": "# plot_optimization_history(study).show()",
   "id": "19c20ec4a315d65f",
   "outputs": [],
   "execution_count": null
  },
  {
   "metadata": {},
   "cell_type": "code",
   "source": "# plot_parallel_coordinate(study).show()",
   "id": "229945faaf177f99",
   "outputs": [],
   "execution_count": null
  },
  {
   "metadata": {
    "ExecuteTime": {
     "end_time": "2025-09-12T16:22:15.767392Z",
     "start_time": "2025-09-12T16:22:15.744010Z"
    }
   },
   "cell_type": "code",
   "source": [
    "xtrain, xtest, ytrain, ytest = train_test_split(x, y, test_size=0.3, random_state=42)\n",
    "from sklearn.impute import SimpleImputer\n",
    "\n",
    "#imputing bcz we will get an error for NaN values in xtrain\n",
    "imputer = SimpleImputer(strategy='mean')\n",
    "xtrain = imputer.fit_transform(xtrain)\n",
    "xtest = imputer.transform(xtest)\n",
    "scaler = StandardScaler()\n",
    "xtrain = scaler.fit_transform(xtrain)\n",
    "xtest = scaler.transform(xtest)\n"
   ],
   "id": "175136c6384b4f21",
   "outputs": [],
   "execution_count": 61
  },
  {
   "metadata": {
    "ExecuteTime": {
     "end_time": "2025-09-12T16:22:23.182813Z",
     "start_time": "2025-09-12T16:22:23.180332Z"
    }
   },
   "cell_type": "code",
   "source": "#selecting algorithm for training using optuna",
   "id": "ade3a8f64f21a80a",
   "outputs": [],
   "execution_count": 62
  },
  {
   "metadata": {
    "ExecuteTime": {
     "end_time": "2025-09-12T16:22:23.863306Z",
     "start_time": "2025-09-12T16:22:23.856864Z"
    }
   },
   "cell_type": "code",
   "source": [
    "from sklearn.svm import SVC\n",
    "\n",
    "\n",
    "def objective(trial):\n",
    "    classifiername = trial.suggest_categorical('classifier',['RandomForestClassifier','SVM','GradientBoosting'])\n",
    "    if classifiername == 'SVM':\n",
    "        c = trial.suggest_float('C',0.1,100,log=True)\n",
    "        kernal = trial.suggest_categorical('kernal',['linear','rbf','poly','sigmoid'])\n",
    "        gamma = trial.suggest_categorical('gamma',['scale','auto'])\n",
    "        model = SVC(C=c,kernel=kernal,gamma=gamma,random_state=42)\n",
    "\n",
    "    elif classifiername == 'RandomForestClassifier':\n",
    "        n_estimators = trial.suggest_int('n_estimators',50,300)\n",
    "        max_depth = trial.suggest_int('max_depth',3,20)\n",
    "        min_samples_split = trial.suggest_int('min_samples_split',2,10)\n",
    "        min_samples_leaf = trial.suggest_int('min_samples_leaf',1,10)\n",
    "        bootstrap = trial.suggest_categorical('bootstrap',[True,False])\n",
    "        model = RandomForestClassifier(n_estimators=n_estimators,max_depth=max_depth,random_state=42,min_samples_split=min_samples_split,min_samples_leaf=min_samples_leaf,bootstrap=bootstrap)\n",
    "\n",
    "    elif classifiername == 'GradientBoosting':\n",
    "        n_estimators = trial.suggest_int('n_estimators',50,300)\n",
    "        learning_rate = trial.suggest_float('learning_rate',0.01,0.3,log=True)\n",
    "        max_depth = trial.suggest_int('max_depth',3,20)\n",
    "        min_samples_split = trial.suggest_int('min_samples_split',2,10)\n",
    "        min_samples_leaf = trial.suggest_int('min_samples_leaf',1,10)\n",
    "        model = GradientBoostingClassifier(n_estimators=n_estimators,learning_rate=learning_rate,max_depth=max_depth,min_samples_leaf=min_samples_leaf,random_state=42,min_samples_split=min_samples_split)\n",
    "\n",
    "    score = cross_val_score(model, xtrain, ytrain, cv=3, scoring='accuracy').mean()\n",
    "    return score\n"
   ],
   "id": "582763437fab04af",
   "outputs": [],
   "execution_count": 63
  },
  {
   "metadata": {
    "ExecuteTime": {
     "end_time": "2025-09-12T16:22:38.366895Z",
     "start_time": "2025-09-12T16:22:25.212060Z"
    }
   },
   "cell_type": "code",
   "source": [
    "study = optuna.create_study(direction='maximize')\n",
    "study.optimize(objective,n_trials=100)"
   ],
   "id": "ee2080c1afc722ff",
   "outputs": [
    {
     "name": "stderr",
     "output_type": "stream",
     "text": [
      "[I 2025-09-12 21:52:25,212] A new study created in memory with name: no-name-ae6c145c-97c5-417f-9c0e-f3dfe8d9c1ff\n",
      "[I 2025-09-12 21:52:25,227] Trial 0 finished with value: 0.7839851024208566 and parameters: {'classifier': 'SVM', 'C': 0.36718134394705737, 'kernal': 'linear', 'gamma': 'scale'}. Best is trial 0 with value: 0.7839851024208566.\n",
      "[I 2025-09-12 21:52:25,420] Trial 1 finished with value: 0.7690875232774674 and parameters: {'classifier': 'RandomForestClassifier', 'n_estimators': 114, 'max_depth': 15, 'min_samples_split': 5, 'min_samples_leaf': 5, 'bootstrap': True}. Best is trial 0 with value: 0.7839851024208566.\n",
      "[I 2025-09-12 21:52:25,624] Trial 2 finished with value: 0.7746741154562384 and parameters: {'classifier': 'RandomForestClassifier', 'n_estimators': 145, 'max_depth': 8, 'min_samples_split': 6, 'min_samples_leaf': 8, 'bootstrap': False}. Best is trial 0 with value: 0.7839851024208566.\n",
      "[I 2025-09-12 21:52:25,635] Trial 3 finished with value: 0.7709497206703911 and parameters: {'classifier': 'SVM', 'C': 1.9335993008419659, 'kernal': 'rbf', 'gamma': 'auto'}. Best is trial 0 with value: 0.7839851024208566.\n",
      "[I 2025-09-12 21:52:25,813] Trial 4 finished with value: 0.7541899441340782 and parameters: {'classifier': 'RandomForestClassifier', 'n_estimators': 112, 'max_depth': 16, 'min_samples_split': 4, 'min_samples_leaf': 9, 'bootstrap': True}. Best is trial 0 with value: 0.7839851024208566.\n",
      "[I 2025-09-12 21:52:26,432] Trial 5 finished with value: 0.7392923649906891 and parameters: {'classifier': 'GradientBoosting', 'n_estimators': 93, 'learning_rate': 0.0179746391356851, 'max_depth': 19, 'min_samples_split': 7, 'min_samples_leaf': 2}. Best is trial 0 with value: 0.7839851024208566.\n",
      "[I 2025-09-12 21:52:26,441] Trial 6 finished with value: 0.7150837988826816 and parameters: {'classifier': 'SVM', 'C': 0.17315328169092828, 'kernal': 'poly', 'gamma': 'scale'}. Best is trial 0 with value: 0.7839851024208566.\n",
      "[I 2025-09-12 21:52:26,469] Trial 7 finished with value: 0.7858472998137801 and parameters: {'classifier': 'SVM', 'C': 12.234391788704912, 'kernal': 'linear', 'gamma': 'auto'}. Best is trial 7 with value: 0.7858472998137801.\n",
      "[I 2025-09-12 21:52:26,865] Trial 8 finished with value: 0.7653631284916201 and parameters: {'classifier': 'RandomForestClassifier', 'n_estimators': 242, 'max_depth': 19, 'min_samples_split': 8, 'min_samples_leaf': 3, 'bootstrap': True}. Best is trial 7 with value: 0.7858472998137801.\n",
      "[I 2025-09-12 21:52:26,966] Trial 9 finished with value: 0.7839851024208566 and parameters: {'classifier': 'RandomForestClassifier', 'n_estimators': 70, 'max_depth': 9, 'min_samples_split': 4, 'min_samples_leaf': 9, 'bootstrap': False}. Best is trial 7 with value: 0.7858472998137801.\n",
      "[I 2025-09-12 21:52:27,443] Trial 10 finished with value: 0.750465549348231 and parameters: {'classifier': 'GradientBoosting', 'n_estimators': 294, 'learning_rate': 0.2968410610932781, 'max_depth': 3, 'min_samples_split': 10, 'min_samples_leaf': 6}. Best is trial 7 with value: 0.7858472998137801.\n",
      "[I 2025-09-12 21:52:27,503] Trial 11 finished with value: 0.7858472998137801 and parameters: {'classifier': 'SVM', 'C': 37.75317674885522, 'kernal': 'linear', 'gamma': 'auto'}. Best is trial 7 with value: 0.7858472998137801.\n",
      "[I 2025-09-12 21:52:27,595] Trial 12 finished with value: 0.7839851024208565 and parameters: {'classifier': 'SVM', 'C': 71.85476778980974, 'kernal': 'linear', 'gamma': 'auto'}. Best is trial 7 with value: 0.7858472998137801.\n",
      "[I 2025-09-12 21:52:27,649] Trial 13 finished with value: 0.7858472998137801 and parameters: {'classifier': 'SVM', 'C': 37.07955901775055, 'kernal': 'linear', 'gamma': 'auto'}. Best is trial 7 with value: 0.7858472998137801.\n",
      "[I 2025-09-12 21:52:27,673] Trial 14 finished with value: 0.7858472998137801 and parameters: {'classifier': 'SVM', 'C': 9.424982438870211, 'kernal': 'linear', 'gamma': 'auto'}. Best is trial 7 with value: 0.7858472998137801.\n",
      "[I 2025-09-12 21:52:27,683] Trial 15 finished with value: 0.6815642458100558 and parameters: {'classifier': 'SVM', 'C': 12.616483143768702, 'kernal': 'sigmoid', 'gamma': 'auto'}. Best is trial 7 with value: 0.7858472998137801.\n",
      "[I 2025-09-12 21:52:28,010] Trial 16 finished with value: 0.7355679702048418 and parameters: {'classifier': 'GradientBoosting', 'n_estimators': 189, 'learning_rate': 0.11077688422944651, 'max_depth': 3, 'min_samples_split': 2, 'min_samples_leaf': 1}. Best is trial 7 with value: 0.7858472998137801.\n",
      "[I 2025-09-12 21:52:28,026] Trial 17 finished with value: 0.7858472998137801 and parameters: {'classifier': 'SVM', 'C': 5.258906919017105, 'kernal': 'linear', 'gamma': 'auto'}. Best is trial 7 with value: 0.7858472998137801.\n",
      "[I 2025-09-12 21:52:28,042] Trial 18 finished with value: 0.7355679702048418 and parameters: {'classifier': 'SVM', 'C': 33.504291502644996, 'kernal': 'rbf', 'gamma': 'auto'}. Best is trial 7 with value: 0.7858472998137801.\n",
      "[I 2025-09-12 21:52:28,052] Trial 19 finished with value: 0.7262569832402234 and parameters: {'classifier': 'SVM', 'C': 1.2431688044885674, 'kernal': 'poly', 'gamma': 'scale'}. Best is trial 7 with value: 0.7858472998137801.\n",
      "[I 2025-09-12 21:52:28,981] Trial 20 finished with value: 0.750465549348231 and parameters: {'classifier': 'GradientBoosting', 'n_estimators': 196, 'learning_rate': 0.012544911192627496, 'max_depth': 12, 'min_samples_split': 10, 'min_samples_leaf': 5}. Best is trial 7 with value: 0.7858472998137801.\n",
      "[I 2025-09-12 21:52:29,029] Trial 21 finished with value: 0.7858472998137801 and parameters: {'classifier': 'SVM', 'C': 29.548712445028173, 'kernal': 'linear', 'gamma': 'auto'}. Best is trial 7 with value: 0.7858472998137801.\n",
      "[I 2025-09-12 21:52:29,139] Trial 22 finished with value: 0.7858472998137801 and parameters: {'classifier': 'SVM', 'C': 89.60830072247424, 'kernal': 'linear', 'gamma': 'auto'}. Best is trial 7 with value: 0.7858472998137801.\n",
      "[I 2025-09-12 21:52:29,183] Trial 23 finished with value: 0.7858472998137801 and parameters: {'classifier': 'SVM', 'C': 22.364864281595857, 'kernal': 'linear', 'gamma': 'auto'}. Best is trial 7 with value: 0.7858472998137801.\n",
      "[I 2025-09-12 21:52:29,192] Trial 24 finished with value: 0.7057728119180634 and parameters: {'classifier': 'SVM', 'C': 42.56398208822519, 'kernal': 'sigmoid', 'gamma': 'auto'}. Best is trial 7 with value: 0.7858472998137801.\n",
      "[I 2025-09-12 21:52:29,219] Trial 25 finished with value: 0.7858472998137801 and parameters: {'classifier': 'SVM', 'C': 12.030791798402243, 'kernal': 'linear', 'gamma': 'auto'}. Best is trial 7 with value: 0.7858472998137801.\n",
      "[I 2025-09-12 21:52:29,236] Trial 26 finished with value: 0.7858472998137801 and parameters: {'classifier': 'SVM', 'C': 5.959133993555835, 'kernal': 'linear', 'gamma': 'auto'}. Best is trial 7 with value: 0.7858472998137801.\n",
      "[I 2025-09-12 21:52:29,271] Trial 27 finished with value: 0.7858472998137801 and parameters: {'classifier': 'SVM', 'C': 21.257421712086167, 'kernal': 'linear', 'gamma': 'scale'}. Best is trial 7 with value: 0.7858472998137801.\n",
      "[I 2025-09-12 21:52:30,207] Trial 28 finished with value: 0.7486033519553073 and parameters: {'classifier': 'GradientBoosting', 'n_estimators': 298, 'learning_rate': 0.04875763556983773, 'max_depth': 7, 'min_samples_split': 2, 'min_samples_leaf': 7}. Best is trial 7 with value: 0.7858472998137801.\n",
      "[I 2025-09-12 21:52:30,224] Trial 29 finished with value: 0.7206703910614526 and parameters: {'classifier': 'SVM', 'C': 56.77719722231257, 'kernal': 'rbf', 'gamma': 'auto'}. Best is trial 7 with value: 0.7858472998137801.\n",
      "[I 2025-09-12 21:52:30,233] Trial 30 finished with value: 0.7039106145251397 and parameters: {'classifier': 'SVM', 'C': 3.49705744905749, 'kernal': 'sigmoid', 'gamma': 'auto'}. Best is trial 7 with value: 0.7858472998137801.\n",
      "[I 2025-09-12 21:52:30,258] Trial 31 finished with value: 0.7858472998137801 and parameters: {'classifier': 'SVM', 'C': 10.837833528833416, 'kernal': 'linear', 'gamma': 'auto'}. Best is trial 7 with value: 0.7858472998137801.\n",
      "[I 2025-09-12 21:52:30,286] Trial 32 finished with value: 0.7858472998137801 and parameters: {'classifier': 'SVM', 'C': 13.560398911094081, 'kernal': 'linear', 'gamma': 'auto'}. Best is trial 7 with value: 0.7858472998137801.\n",
      "[I 2025-09-12 21:52:30,305] Trial 33 finished with value: 0.7858472998137801 and parameters: {'classifier': 'SVM', 'C': 5.768141061269552, 'kernal': 'linear', 'gamma': 'auto'}. Best is trial 7 with value: 0.7858472998137801.\n",
      "[I 2025-09-12 21:52:30,343] Trial 34 finished with value: 0.7858472998137801 and parameters: {'classifier': 'SVM', 'C': 20.11993266584817, 'kernal': 'linear', 'gamma': 'auto'}. Best is trial 7 with value: 0.7858472998137801.\n",
      "[I 2025-09-12 21:52:30,417] Trial 35 finished with value: 0.7895716945996276 and parameters: {'classifier': 'RandomForestClassifier', 'n_estimators': 51, 'max_depth': 13, 'min_samples_split': 8, 'min_samples_leaf': 10, 'bootstrap': False}. Best is trial 35 with value: 0.7895716945996276.\n",
      "[I 2025-09-12 21:52:30,491] Trial 36 finished with value: 0.7895716945996276 and parameters: {'classifier': 'RandomForestClassifier', 'n_estimators': 50, 'max_depth': 13, 'min_samples_split': 8, 'min_samples_leaf': 10, 'bootstrap': False}. Best is trial 35 with value: 0.7895716945996276.\n",
      "[I 2025-09-12 21:52:30,565] Trial 37 finished with value: 0.7895716945996276 and parameters: {'classifier': 'RandomForestClassifier', 'n_estimators': 50, 'max_depth': 13, 'min_samples_split': 8, 'min_samples_leaf': 10, 'bootstrap': False}. Best is trial 35 with value: 0.7895716945996276.\n",
      "[I 2025-09-12 21:52:30,639] Trial 38 finished with value: 0.7895716945996276 and parameters: {'classifier': 'RandomForestClassifier', 'n_estimators': 50, 'max_depth': 13, 'min_samples_split': 8, 'min_samples_leaf': 10, 'bootstrap': False}. Best is trial 35 with value: 0.7895716945996276.\n",
      "[I 2025-09-12 21:52:30,713] Trial 39 finished with value: 0.7895716945996276 and parameters: {'classifier': 'RandomForestClassifier', 'n_estimators': 50, 'max_depth': 13, 'min_samples_split': 8, 'min_samples_leaf': 10, 'bootstrap': False}. Best is trial 35 with value: 0.7895716945996276.\n",
      "[I 2025-09-12 21:52:30,788] Trial 40 finished with value: 0.7895716945996276 and parameters: {'classifier': 'RandomForestClassifier', 'n_estimators': 51, 'max_depth': 14, 'min_samples_split': 8, 'min_samples_leaf': 10, 'bootstrap': False}. Best is trial 35 with value: 0.7895716945996276.\n",
      "[I 2025-09-12 21:52:30,877] Trial 41 finished with value: 0.7783985102420856 and parameters: {'classifier': 'RandomForestClassifier', 'n_estimators': 60, 'max_depth': 13, 'min_samples_split': 8, 'min_samples_leaf': 10, 'bootstrap': False}. Best is trial 35 with value: 0.7895716945996276.\n",
      "[I 2025-09-12 21:52:30,952] Trial 42 finished with value: 0.7895716945996276 and parameters: {'classifier': 'RandomForestClassifier', 'n_estimators': 50, 'max_depth': 11, 'min_samples_split': 9, 'min_samples_leaf': 10, 'bootstrap': False}. Best is trial 35 with value: 0.7895716945996276.\n",
      "[I 2025-09-12 21:52:31,071] Trial 43 finished with value: 0.7783985102420856 and parameters: {'classifier': 'RandomForestClassifier', 'n_estimators': 84, 'max_depth': 11, 'min_samples_split': 7, 'min_samples_leaf': 9, 'bootstrap': False}. Best is trial 35 with value: 0.7895716945996276.\n",
      "[I 2025-09-12 21:52:31,145] Trial 44 finished with value: 0.7895716945996276 and parameters: {'classifier': 'RandomForestClassifier', 'n_estimators': 50, 'max_depth': 15, 'min_samples_split': 9, 'min_samples_leaf': 10, 'bootstrap': False}. Best is trial 35 with value: 0.7895716945996276.\n",
      "[I 2025-09-12 21:52:31,272] Trial 45 finished with value: 0.7783985102420856 and parameters: {'classifier': 'RandomForestClassifier', 'n_estimators': 89, 'max_depth': 13, 'min_samples_split': 7, 'min_samples_leaf': 9, 'bootstrap': False}. Best is trial 35 with value: 0.7895716945996276.\n",
      "[I 2025-09-12 21:52:31,385] Trial 46 finished with value: 0.7765363128491619 and parameters: {'classifier': 'RandomForestClassifier', 'n_estimators': 79, 'max_depth': 16, 'min_samples_split': 9, 'min_samples_leaf': 10, 'bootstrap': False}. Best is trial 35 with value: 0.7895716945996276.\n",
      "[I 2025-09-12 21:52:31,490] Trial 47 finished with value: 0.7690875232774674 and parameters: {'classifier': 'RandomForestClassifier', 'n_estimators': 72, 'max_depth': 11, 'min_samples_split': 8, 'min_samples_leaf': 8, 'bootstrap': False}. Best is trial 35 with value: 0.7895716945996276.\n",
      "[I 2025-09-12 21:52:31,639] Trial 48 finished with value: 0.7746741154562384 and parameters: {'classifier': 'RandomForestClassifier', 'n_estimators': 105, 'max_depth': 13, 'min_samples_split': 7, 'min_samples_leaf': 8, 'bootstrap': False}. Best is trial 35 with value: 0.7895716945996276.\n",
      "[I 2025-09-12 21:52:31,713] Trial 49 finished with value: 0.7858472998137803 and parameters: {'classifier': 'RandomForestClassifier', 'n_estimators': 50, 'max_depth': 10, 'min_samples_split': 9, 'min_samples_leaf': 10, 'bootstrap': False}. Best is trial 35 with value: 0.7895716945996276.\n",
      "[I 2025-09-12 21:52:31,816] Trial 50 finished with value: 0.7783985102420856 and parameters: {'classifier': 'RandomForestClassifier', 'n_estimators': 71, 'max_depth': 14, 'min_samples_split': 8, 'min_samples_leaf': 9, 'bootstrap': False}. Best is trial 35 with value: 0.7895716945996276.\n",
      "[I 2025-09-12 21:52:31,891] Trial 51 finished with value: 0.7895716945996276 and parameters: {'classifier': 'RandomForestClassifier', 'n_estimators': 50, 'max_depth': 14, 'min_samples_split': 8, 'min_samples_leaf': 10, 'bootstrap': False}. Best is trial 35 with value: 0.7895716945996276.\n",
      "[I 2025-09-12 21:52:31,992] Trial 52 finished with value: 0.7783985102420856 and parameters: {'classifier': 'RandomForestClassifier', 'n_estimators': 71, 'max_depth': 13, 'min_samples_split': 8, 'min_samples_leaf': 10, 'bootstrap': False}. Best is trial 35 with value: 0.7895716945996276.\n",
      "[I 2025-09-12 21:52:32,086] Trial 53 finished with value: 0.7858472998137803 and parameters: {'classifier': 'RandomForestClassifier', 'n_estimators': 64, 'max_depth': 17, 'min_samples_split': 7, 'min_samples_leaf': 9, 'bootstrap': False}. Best is trial 35 with value: 0.7895716945996276.\n",
      "[I 2025-09-12 21:52:32,160] Trial 54 finished with value: 0.7895716945996276 and parameters: {'classifier': 'RandomForestClassifier', 'n_estimators': 51, 'max_depth': 12, 'min_samples_split': 9, 'min_samples_leaf': 10, 'bootstrap': False}. Best is trial 35 with value: 0.7895716945996276.\n",
      "[I 2025-09-12 21:52:32,296] Trial 55 finished with value: 0.7821229050279329 and parameters: {'classifier': 'RandomForestClassifier', 'n_estimators': 95, 'max_depth': 14, 'min_samples_split': 6, 'min_samples_leaf': 9, 'bootstrap': False}. Best is trial 35 with value: 0.7895716945996276.\n",
      "[I 2025-09-12 21:52:32,406] Trial 56 finished with value: 0.7783985102420856 and parameters: {'classifier': 'RandomForestClassifier', 'n_estimators': 76, 'max_depth': 15, 'min_samples_split': 8, 'min_samples_leaf': 10, 'bootstrap': False}. Best is trial 35 with value: 0.7895716945996276.\n",
      "[I 2025-09-12 21:52:32,593] Trial 57 finished with value: 0.7709497206703911 and parameters: {'classifier': 'RandomForestClassifier', 'n_estimators': 133, 'max_depth': 12, 'min_samples_split': 6, 'min_samples_leaf': 8, 'bootstrap': False}. Best is trial 35 with value: 0.7895716945996276.\n",
      "[I 2025-09-12 21:52:32,686] Trial 58 finished with value: 0.7858472998137803 and parameters: {'classifier': 'RandomForestClassifier', 'n_estimators': 64, 'max_depth': 15, 'min_samples_split': 9, 'min_samples_leaf': 9, 'bootstrap': False}. Best is trial 35 with value: 0.7895716945996276.\n",
      "[I 2025-09-12 21:52:32,777] Trial 59 finished with value: 0.7821229050279329 and parameters: {'classifier': 'RandomForestClassifier', 'n_estimators': 64, 'max_depth': 14, 'min_samples_split': 7, 'min_samples_leaf': 10, 'bootstrap': False}. Best is trial 35 with value: 0.7895716945996276.\n",
      "[I 2025-09-12 21:52:32,980] Trial 60 finished with value: 0.7690875232774674 and parameters: {'classifier': 'RandomForestClassifier', 'n_estimators': 139, 'max_depth': 17, 'min_samples_split': 8, 'min_samples_leaf': 7, 'bootstrap': False}. Best is trial 35 with value: 0.7895716945996276.\n",
      "[I 2025-09-12 21:52:33,058] Trial 61 finished with value: 0.7858472998137803 and parameters: {'classifier': 'RandomForestClassifier', 'n_estimators': 51, 'max_depth': 10, 'min_samples_split': 9, 'min_samples_leaf': 10, 'bootstrap': False}. Best is trial 35 with value: 0.7895716945996276.\n",
      "[I 2025-09-12 21:52:33,147] Trial 62 finished with value: 0.7783985102420856 and parameters: {'classifier': 'RandomForestClassifier', 'n_estimators': 60, 'max_depth': 11, 'min_samples_split': 9, 'min_samples_leaf': 10, 'bootstrap': False}. Best is trial 35 with value: 0.7895716945996276.\n",
      "[I 2025-09-12 21:52:33,284] Trial 63 finished with value: 0.756052141527002 and parameters: {'classifier': 'RandomForestClassifier', 'n_estimators': 86, 'max_depth': 12, 'min_samples_split': 10, 'min_samples_leaf': 9, 'bootstrap': True}. Best is trial 35 with value: 0.7895716945996276.\n",
      "[I 2025-09-12 21:52:33,657] Trial 64 finished with value: 0.7411545623836125 and parameters: {'classifier': 'GradientBoosting', 'n_estimators': 104, 'learning_rate': 0.043913839123554774, 'max_depth': 13, 'min_samples_split': 8, 'min_samples_leaf': 10}. Best is trial 35 with value: 0.7895716945996276.\n",
      "[I 2025-09-12 21:52:33,852] Trial 65 finished with value: 0.7672253258845437 and parameters: {'classifier': 'RandomForestClassifier', 'n_estimators': 125, 'max_depth': 10, 'min_samples_split': 7, 'min_samples_leaf': 4, 'bootstrap': False}. Best is trial 35 with value: 0.7895716945996276.\n",
      "[I 2025-09-12 21:52:33,943] Trial 66 finished with value: 0.7783985102420856 and parameters: {'classifier': 'RandomForestClassifier', 'n_estimators': 62, 'max_depth': 14, 'min_samples_split': 8, 'min_samples_leaf': 9, 'bootstrap': False}. Best is trial 35 with value: 0.7895716945996276.\n",
      "[I 2025-09-12 21:52:34,200] Trial 67 finished with value: 0.7579143389199254 and parameters: {'classifier': 'RandomForestClassifier', 'n_estimators': 169, 'max_depth': 8, 'min_samples_split': 9, 'min_samples_leaf': 10, 'bootstrap': True}. Best is trial 35 with value: 0.7895716945996276.\n",
      "[I 2025-09-12 21:52:34,310] Trial 68 finished with value: 0.7821229050279329 and parameters: {'classifier': 'RandomForestClassifier', 'n_estimators': 77, 'max_depth': 16, 'min_samples_split': 5, 'min_samples_leaf': 9, 'bootstrap': False}. Best is trial 35 with value: 0.7895716945996276.\n",
      "[I 2025-09-12 21:52:34,559] Trial 69 finished with value: 0.7337057728119181 and parameters: {'classifier': 'GradientBoosting', 'n_estimators': 61, 'learning_rate': 0.23761008215757376, 'max_depth': 12, 'min_samples_split': 10, 'min_samples_leaf': 8}. Best is trial 35 with value: 0.7895716945996276.\n",
      "[I 2025-09-12 21:52:34,970] Trial 70 finished with value: 0.7523277467411544 and parameters: {'classifier': 'RandomForestClassifier', 'n_estimators': 266, 'max_depth': 13, 'min_samples_split': 7, 'min_samples_leaf': 10, 'bootstrap': True}. Best is trial 35 with value: 0.7895716945996276.\n",
      "[I 2025-09-12 21:52:35,054] Trial 71 finished with value: 0.7858472998137803 and parameters: {'classifier': 'RandomForestClassifier', 'n_estimators': 53, 'max_depth': 15, 'min_samples_split': 9, 'min_samples_leaf': 10, 'bootstrap': False}. Best is trial 35 with value: 0.7895716945996276.\n",
      "[I 2025-09-12 21:52:35,133] Trial 72 finished with value: 0.7895716945996276 and parameters: {'classifier': 'RandomForestClassifier', 'n_estimators': 50, 'max_depth': 15, 'min_samples_split': 8, 'min_samples_leaf': 10, 'bootstrap': False}. Best is trial 35 with value: 0.7895716945996276.\n",
      "[I 2025-09-12 21:52:35,434] Trial 73 finished with value: 0.7765363128491621 and parameters: {'classifier': 'RandomForestClassifier', 'n_estimators': 215, 'max_depth': 13, 'min_samples_split': 9, 'min_samples_leaf': 9, 'bootstrap': False}. Best is trial 35 with value: 0.7895716945996276.\n",
      "[I 2025-09-12 21:52:35,524] Trial 74 finished with value: 0.7783985102420856 and parameters: {'classifier': 'RandomForestClassifier', 'n_estimators': 61, 'max_depth': 11, 'min_samples_split': 8, 'min_samples_leaf': 10, 'bootstrap': False}. Best is trial 35 with value: 0.7895716945996276.\n",
      "[I 2025-09-12 21:52:35,660] Trial 75 finished with value: 0.7690875232774674 and parameters: {'classifier': 'RandomForestClassifier', 'n_estimators': 81, 'max_depth': 14, 'min_samples_split': 10, 'min_samples_leaf': 1, 'bootstrap': False}. Best is trial 35 with value: 0.7895716945996276.\n",
      "[I 2025-09-12 21:52:35,909] Trial 76 finished with value: 0.7635009310986964 and parameters: {'classifier': 'RandomForestClassifier', 'n_estimators': 160, 'max_depth': 12, 'min_samples_split': 8, 'min_samples_leaf': 2, 'bootstrap': False}. Best is trial 35 with value: 0.7895716945996276.\n",
      "[I 2025-09-12 21:52:36,042] Trial 77 finished with value: 0.7858472998137803 and parameters: {'classifier': 'RandomForestClassifier', 'n_estimators': 93, 'max_depth': 17, 'min_samples_split': 9, 'min_samples_leaf': 9, 'bootstrap': False}. Best is trial 35 with value: 0.7895716945996276.\n",
      "[I 2025-09-12 21:52:36,147] Trial 78 finished with value: 0.7672253258845437 and parameters: {'classifier': 'RandomForestClassifier', 'n_estimators': 69, 'max_depth': 16, 'min_samples_split': 3, 'min_samples_leaf': 6, 'bootstrap': False}. Best is trial 35 with value: 0.7895716945996276.\n",
      "[I 2025-09-12 21:52:36,272] Trial 79 finished with value: 0.7746741154562384 and parameters: {'classifier': 'GradientBoosting', 'n_estimators': 56, 'learning_rate': 0.025980865780298887, 'max_depth': 4, 'min_samples_split': 7, 'min_samples_leaf': 10}. Best is trial 35 with value: 0.7895716945996276.\n",
      "[I 2025-09-12 21:52:36,384] Trial 80 finished with value: 0.7728119180633147 and parameters: {'classifier': 'RandomForestClassifier', 'n_estimators': 75, 'max_depth': 13, 'min_samples_split': 8, 'min_samples_leaf': 8, 'bootstrap': False}. Best is trial 35 with value: 0.7895716945996276.\n",
      "[I 2025-09-12 21:52:36,458] Trial 81 finished with value: 0.7895716945996276 and parameters: {'classifier': 'RandomForestClassifier', 'n_estimators': 50, 'max_depth': 14, 'min_samples_split': 8, 'min_samples_leaf': 10, 'bootstrap': False}. Best is trial 35 with value: 0.7895716945996276.\n",
      "[I 2025-09-12 21:52:36,532] Trial 82 finished with value: 0.7895716945996276 and parameters: {'classifier': 'RandomForestClassifier', 'n_estimators': 50, 'max_depth': 15, 'min_samples_split': 9, 'min_samples_leaf': 10, 'bootstrap': False}. Best is trial 35 with value: 0.7895716945996276.\n",
      "[I 2025-09-12 21:52:36,631] Trial 83 finished with value: 0.7821229050279329 and parameters: {'classifier': 'RandomForestClassifier', 'n_estimators': 68, 'max_depth': 14, 'min_samples_split': 7, 'min_samples_leaf': 9, 'bootstrap': False}. Best is trial 35 with value: 0.7895716945996276.\n",
      "[I 2025-09-12 21:52:36,716] Trial 84 finished with value: 0.7765363128491621 and parameters: {'classifier': 'RandomForestClassifier', 'n_estimators': 59, 'max_depth': 20, 'min_samples_split': 8, 'min_samples_leaf': 10, 'bootstrap': False}. Best is trial 35 with value: 0.7895716945996276.\n",
      "[I 2025-09-12 21:52:36,816] Trial 85 finished with value: 0.7802607076350093 and parameters: {'classifier': 'RandomForestClassifier', 'n_estimators': 69, 'max_depth': 11, 'min_samples_split': 8, 'min_samples_leaf': 10, 'bootstrap': False}. Best is trial 35 with value: 0.7895716945996276.\n",
      "[I 2025-09-12 21:52:36,913] Trial 86 finished with value: 0.756052141527002 and parameters: {'classifier': 'RandomForestClassifier', 'n_estimators': 59, 'max_depth': 13, 'min_samples_split': 8, 'min_samples_leaf': 9, 'bootstrap': True}. Best is trial 35 with value: 0.7895716945996276.\n",
      "[I 2025-09-12 21:52:37,024] Trial 87 finished with value: 0.7821229050279329 and parameters: {'classifier': 'RandomForestClassifier', 'n_estimators': 77, 'max_depth': 12, 'min_samples_split': 9, 'min_samples_leaf': 10, 'bootstrap': False}. Best is trial 35 with value: 0.7895716945996276.\n",
      "[I 2025-09-12 21:52:37,148] Trial 88 finished with value: 0.7802607076350093 and parameters: {'classifier': 'RandomForestClassifier', 'n_estimators': 86, 'max_depth': 14, 'min_samples_split': 8, 'min_samples_leaf': 9, 'bootstrap': False}. Best is trial 35 with value: 0.7895716945996276.\n",
      "[I 2025-09-12 21:52:37,232] Trial 89 finished with value: 0.7839851024208566 and parameters: {'classifier': 'RandomForestClassifier', 'n_estimators': 57, 'max_depth': 13, 'min_samples_split': 9, 'min_samples_leaf': 10, 'bootstrap': False}. Best is trial 35 with value: 0.7895716945996276.\n",
      "[I 2025-09-12 21:52:37,328] Trial 90 finished with value: 0.7783985102420856 and parameters: {'classifier': 'RandomForestClassifier', 'n_estimators': 67, 'max_depth': 15, 'min_samples_split': 7, 'min_samples_leaf': 10, 'bootstrap': False}. Best is trial 35 with value: 0.7895716945996276.\n",
      "[I 2025-09-12 21:52:37,409] Trial 91 finished with value: 0.7821229050279329 and parameters: {'classifier': 'RandomForestClassifier', 'n_estimators': 55, 'max_depth': 12, 'min_samples_split': 9, 'min_samples_leaf': 10, 'bootstrap': False}. Best is trial 35 with value: 0.7895716945996276.\n",
      "[I 2025-09-12 21:52:37,485] Trial 92 finished with value: 0.7895716945996276 and parameters: {'classifier': 'RandomForestClassifier', 'n_estimators': 51, 'max_depth': 11, 'min_samples_split': 9, 'min_samples_leaf': 10, 'bootstrap': False}. Best is trial 35 with value: 0.7895716945996276.\n",
      "[I 2025-09-12 21:52:37,582] Trial 93 finished with value: 0.7821229050279329 and parameters: {'classifier': 'RandomForestClassifier', 'n_estimators': 67, 'max_depth': 12, 'min_samples_split': 10, 'min_samples_leaf': 9, 'bootstrap': False}. Best is trial 35 with value: 0.7895716945996276.\n",
      "[I 2025-09-12 21:52:37,665] Trial 94 finished with value: 0.7821229050279329 and parameters: {'classifier': 'RandomForestClassifier', 'n_estimators': 56, 'max_depth': 10, 'min_samples_split': 8, 'min_samples_leaf': 10, 'bootstrap': False}. Best is trial 35 with value: 0.7895716945996276.\n",
      "[I 2025-09-12 21:52:37,777] Trial 95 finished with value: 0.7746741154562384 and parameters: {'classifier': 'RandomForestClassifier', 'n_estimators': 72, 'max_depth': 14, 'min_samples_split': 9, 'min_samples_leaf': 5, 'bootstrap': False}. Best is trial 35 with value: 0.7895716945996276.\n",
      "[I 2025-09-12 21:52:37,853] Trial 96 finished with value: 0.7895716945996276 and parameters: {'classifier': 'RandomForestClassifier', 'n_estimators': 50, 'max_depth': 16, 'min_samples_split': 8, 'min_samples_leaf': 10, 'bootstrap': False}. Best is trial 35 with value: 0.7895716945996276.\n",
      "[I 2025-09-12 21:52:38,084] Trial 97 finished with value: 0.7486033519553074 and parameters: {'classifier': 'GradientBoosting', 'n_estimators': 61, 'learning_rate': 0.11464197081757858, 'max_depth': 12, 'min_samples_split': 6, 'min_samples_leaf': 9}. Best is trial 35 with value: 0.7895716945996276.\n",
      "[I 2025-09-12 21:52:38,201] Trial 98 finished with value: 0.7746741154562383 and parameters: {'classifier': 'RandomForestClassifier', 'n_estimators': 82, 'max_depth': 13, 'min_samples_split': 10, 'min_samples_leaf': 10, 'bootstrap': False}. Best is trial 35 with value: 0.7895716945996276.\n",
      "[I 2025-09-12 21:52:38,365] Trial 99 finished with value: 0.7597765363128491 and parameters: {'classifier': 'RandomForestClassifier', 'n_estimators': 101, 'max_depth': 13, 'min_samples_split': 8, 'min_samples_leaf': 4, 'bootstrap': False}. Best is trial 35 with value: 0.7895716945996276.\n"
     ]
    }
   ],
   "execution_count": 64
  },
  {
   "metadata": {
    "ExecuteTime": {
     "end_time": "2025-09-12T16:23:04.449815Z",
     "start_time": "2025-09-12T16:23:04.445206Z"
    }
   },
   "cell_type": "code",
   "source": [
    "besttrial = study.best_trial\n",
    "print(f'best trial: {study.best_params}')\n",
    "print(study.best_value)"
   ],
   "id": "3ad419748b0e4a11",
   "outputs": [
    {
     "name": "stdout",
     "output_type": "stream",
     "text": [
      "best trial: {'classifier': 'RandomForestClassifier', 'n_estimators': 51, 'max_depth': 13, 'min_samples_split': 8, 'min_samples_leaf': 10, 'bootstrap': False}\n",
      "0.7895716945996276\n"
     ]
    }
   ],
   "execution_count": 65
  },
  {
   "metadata": {
    "ExecuteTime": {
     "end_time": "2025-09-12T16:23:34.857708Z",
     "start_time": "2025-09-12T16:23:34.843371Z"
    }
   },
   "cell_type": "code",
   "source": "study.trials_dataframe()['params_classifier'].value_counts()",
   "id": "1d336a93a56e4fff",
   "outputs": [
    {
     "data": {
      "text/plain": [
       "params_classifier\n",
       "RandomForestClassifier    66\n",
       "SVM                       25\n",
       "GradientBoosting           9\n",
       "Name: count, dtype: int64"
      ]
     },
     "execution_count": 66,
     "metadata": {},
     "output_type": "execute_result"
    }
   ],
   "execution_count": 66
  },
  {
   "metadata": {},
   "cell_type": "code",
   "outputs": [],
   "execution_count": null,
   "source": "",
   "id": "93d957d79d50a5a4"
  }
 ],
 "metadata": {
  "kernelspec": {
   "display_name": "Python 3",
   "language": "python",
   "name": "python3"
  },
  "language_info": {
   "codemirror_mode": {
    "name": "ipython",
    "version": 2
   },
   "file_extension": ".py",
   "mimetype": "text/x-python",
   "name": "python",
   "nbconvert_exporter": "python",
   "pygments_lexer": "ipython2",
   "version": "2.7.6"
  }
 },
 "nbformat": 4,
 "nbformat_minor": 5
}
