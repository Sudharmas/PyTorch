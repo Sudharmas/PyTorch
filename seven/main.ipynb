{
 "cells": [
  {
   "cell_type": "code",
   "id": "initial_id",
   "metadata": {
    "collapsed": true
   },
   "source": [
    "import pandas as pd\n",
    "from IPython.core.pylabtools import figsize\n",
    "from sklearn.model_selection import train_test_split\n",
    "import torch\n",
    "from torch.utils.data import DataLoader,Dataset\n",
    "import torch.nn as nn\n",
    "import torch.optim as optim\n",
    "import matplotlib.pyplot as plt\n",
    "import numpy as np"
   ],
   "outputs": [],
   "execution_count": null
  },
  {
   "metadata": {},
   "cell_type": "code",
   "source": [
    "device = \"mps\" if torch.backends.mps.is_available() else \"cpu\"\n",
    "device"
   ],
   "id": "508b3404d5624584",
   "outputs": [],
   "execution_count": null
  },
  {
   "metadata": {},
   "cell_type": "code",
   "source": "torch.manual_seed(42)\n",
   "id": "f0505535f15d8540",
   "outputs": [],
   "execution_count": null
  },
  {
   "metadata": {},
   "cell_type": "code",
   "source": "df = pd.read_csv('./fashion-mnist_train.csv')",
   "id": "af35931916c47552",
   "outputs": [],
   "execution_count": null
  },
  {
   "metadata": {},
   "cell_type": "code",
   "source": "df.shape",
   "id": "fe13d0c5dc217b8b",
   "outputs": [],
   "execution_count": null
  },
  {
   "metadata": {},
   "cell_type": "code",
   "source": [
    "fig,axes = plt.subplots(4,4,figsize=(10,10))\n",
    "fig.suptitle(\"16 images\")\n",
    "for i,ax in enumerate(axes.flat):\n",
    "    img = df.iloc[i,1:].values.reshape(28,28)\n",
    "    ax.imshow(img)\n",
    "    ax.axis('off')\n",
    "    ax.set_title(f\"label {df.iloc[i,0]}\")\n",
    "\n",
    "plt.tight_layout(rect=[0,0,1,1])\n",
    "plt.show()"
   ],
   "id": "88277aab8a0dc59c",
   "outputs": [],
   "execution_count": null
  },
  {
   "metadata": {},
   "cell_type": "code",
   "source": [
    "x = df.iloc[:,1:].values\n",
    "y = df.iloc[:,0].values"
   ],
   "id": "203a1b4f3a8fe083",
   "outputs": [],
   "execution_count": null
  },
  {
   "metadata": {},
   "cell_type": "code",
   "source": "xtrain,xtest,ytrain,ytest = train_test_split(x,y,test_size=0.2,random_state=42)",
   "id": "4f367b1ed024c206",
   "outputs": [],
   "execution_count": null
  },
  {
   "metadata": {},
   "cell_type": "code",
   "source": [
    "xtrain = xtrain/255.0\n",
    "xtest = xtest/255.0\n",
    "xtrain.shape"
   ],
   "id": "154a85ef680706ae",
   "outputs": [],
   "execution_count": null
  },
  {
   "metadata": {},
   "cell_type": "code",
   "source": [
    "class customdataset(Dataset):\n",
    "    def __init__(self,features,labels):\n",
    "        self.features = torch.tensor(features,dtype=torch.float32)\n",
    "        self.labels = torch.tensor(labels,dtype=torch.long)\n",
    "\n",
    "    def __len__(self):\n",
    "        return len(self.features)\n",
    "\n",
    "    def __getitem__(self, idx):\n",
    "        return self.features[idx],self.labels[idx]\n"
   ],
   "id": "92bc0c2d8c544495",
   "outputs": [],
   "execution_count": null
  },
  {
   "metadata": {},
   "cell_type": "code",
   "source": [
    "traindataset = customdataset(xtrain,ytrain)\n",
    "len(traindataset)"
   ],
   "id": "a07f470d547f72eb",
   "outputs": [],
   "execution_count": null
  },
  {
   "metadata": {},
   "cell_type": "code",
   "source": "traindataset[0]",
   "id": "f203209074d05fd",
   "outputs": [],
   "execution_count": null
  },
  {
   "metadata": {},
   "cell_type": "code",
   "source": [
    "testdataset = customdataset(xtest,ytest)\n",
    "len(testdataset)"
   ],
   "id": "fe3a406020b39c67",
   "outputs": [],
   "execution_count": null
  },
  {
   "metadata": {},
   "cell_type": "code",
   "source": [
    "trainloader = DataLoader(traindataset,batch_size=32,shuffle=True)\n",
    "testloader = DataLoader(testdataset,batch_size=32,shuffle=False)"
   ],
   "id": "5bfcfd91addd9aae",
   "outputs": [],
   "execution_count": null
  },
  {
   "metadata": {},
   "cell_type": "code",
   "source": [
    "class MyNN(nn.Module):\n",
    "    def __init__(self,numfeatures):\n",
    "        super().__init__()\n",
    "        self.model = nn.Sequential(nn.Linear(numfeatures,128),nn.ReLU(),nn.Linear(128,64),nn.ReLU(),nn.Linear(64,10))\n",
    "\n",
    "    def forward(self,x):\n",
    "        return self.model(x)\n"
   ],
   "id": "e6918108fc71a685",
   "outputs": [],
   "execution_count": null
  },
  {
   "metadata": {},
   "cell_type": "code",
   "source": [
    "epochs = 100\n",
    "lr = 0.1"
   ],
   "id": "73c8afe8943b6a24",
   "outputs": [],
   "execution_count": null
  },
  {
   "metadata": {},
   "cell_type": "code",
   "source": [
    "model = MyNN(xtrain.shape[1]).to(device)\n",
    "criterion = nn.CrossEntropyLoss()\n",
    "optimizer = optim.SGD(model.parameters(),lr=lr)"
   ],
   "id": "7c24f0fb20139e34",
   "outputs": [],
   "execution_count": null
  },
  {
   "metadata": {},
   "cell_type": "code",
   "source": [
    "for epoch in range(epochs):\n",
    "    for batchfeatures,batchlabels in trainloader:\n",
    "        batchfeatures = batchfeatures.to(device)\n",
    "        batchlabels = batchlabels.to(device)\n",
    "        output = model(batchfeatures).to(device)\n",
    "        loss = criterion(output,batchlabels)\n",
    "        optimizer.zero_grad()\n",
    "        loss.backward()\n",
    "        optimizer.step()\n",
    "    print(f\"epoch {epoch+1}, loss: {loss.item():.4f}\")\n"
   ],
   "id": "5820a84da18af4cd",
   "outputs": [],
   "execution_count": null
  },
  {
   "metadata": {},
   "cell_type": "code",
   "source": "model.eval()",
   "id": "75e47123b36c9f50",
   "outputs": [],
   "execution_count": null
  },
  {
   "metadata": {},
   "cell_type": "code",
   "source": [
    "total =0\n",
    "correct = 0\n",
    "with torch.no_grad():\n",
    "    for batchfeatures,batchlabels in trainloader:\n",
    "        batchfeatures = batchfeatures.to(device)\n",
    "        batchlabels = batchlabels.to(device)\n",
    "        output = model(batchfeatures).to(device)\n",
    "        _, predicted = torch.max(output.data,1)\n",
    "        total += batchlabels.shape[0]\n",
    "        correct = correct + predicted.eq(batchlabels).sum().item()\n",
    "print(correct/total)"
   ],
   "id": "4407425f846b6e8b",
   "outputs": [],
   "execution_count": null
  },
  {
   "metadata": {},
   "cell_type": "code",
   "source": [
    "#test acc = 88\n",
    "#train ac 97\n",
    "# gap - 9 percent\n",
    "# applying diff techniues to reduce overfitting"
   ],
   "id": "910d5453267cf44",
   "outputs": [],
   "execution_count": null
  },
  {
   "metadata": {},
   "cell_type": "markdown",
   "source": [
    "# dropout - > turning off neurons in between to maximize acc\n",
    "applied after ReLu function"
   ],
   "id": "40b93a6a4f696c7f"
  },
  {
   "metadata": {},
   "cell_type": "markdown",
   "source": [
    "# Batch normalization - > during every mini batch,i.e, to  hidden layers to tabilize the change in weights from one layer to another\n",
    "applied after every layer,before activation functions"
   ],
   "id": "5ebb679b9d5b8a58"
  },
  {
   "metadata": {},
   "cell_type": "code",
   "source": [
    "class MyNN(nn.Module):\n",
    "    def __init__(self,numfeatures):\n",
    "        super().__init__()\n",
    "        self.model = nn.Sequential(nn.Linear(numfeatures,128),\n",
    "                                   nn.BatchNorm1d(128),\n",
    "                                   nn.ReLU(),\n",
    "                                   nn.Dropout(p=0.3),\n",
    "                                   nn.Linear(128,64),\n",
    "                                   nn.BatchNorm1d(64),\n",
    "                                   nn.ReLU(),\n",
    "                                   nn.Dropout(p=0.3),\n",
    "                                   nn.Linear(64,10))\n",
    "\n",
    "    def forward(self,x):\n",
    "        return self.model(x)"
   ],
   "id": "5b19cc92b74aa3e8",
   "outputs": [],
   "execution_count": null
  },
  {
   "metadata": {},
   "cell_type": "markdown",
   "source": "# Regularization - > is applied to weights of model to apply penalty for large values by adding penalty, so that we get smaller or stable weights",
   "id": "2afc7c154af989e6"
  },
  {
   "metadata": {},
   "cell_type": "code",
   "source": [
    "model = MyNN(xtrain.shape[1]).to(device)\n",
    "criterion = nn.CrossEntropyLoss()\n",
    "optimizer = optim.SGD(model.parameters(),lr=lr,weight_decay=1e-4)"
   ],
   "id": "a010c8328f3ada5c",
   "outputs": [],
   "execution_count": null
  },
  {
   "metadata": {},
   "cell_type": "code",
   "source": [
    "#test acc - 89\n",
    "#train acc - 94\n",
    "# gap - 5 percent"
   ],
   "id": "4d928edab3317314",
   "outputs": [],
   "execution_count": null
  }
 ],
 "metadata": {
  "kernelspec": {
   "display_name": "Python 3",
   "language": "python",
   "name": "python3"
  },
  "language_info": {
   "codemirror_mode": {
    "name": "ipython",
    "version": 2
   },
   "file_extension": ".py",
   "mimetype": "text/x-python",
   "name": "python",
   "nbconvert_exporter": "python",
   "pygments_lexer": "ipython2",
   "version": "2.7.6"
  }
 },
 "nbformat": 4,
 "nbformat_minor": 5
}
