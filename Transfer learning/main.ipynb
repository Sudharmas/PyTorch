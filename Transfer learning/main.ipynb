{
 "cells": [
  {
   "metadata": {},
   "cell_type": "code",
   "source": "",
   "id": "5ff66c7bc2ef46f5",
   "outputs": [],
   "execution_count": null
  },
  {
   "metadata": {
    "collapsed": true
   },
   "cell_type": "code",
   "source": [
    "import pandas as pd\n",
    "from IPython.core.pylabtools import figsize\n",
    "from sklearn.model_selection import train_test_split\n",
    "import torch\n",
    "from torch.utils.data import DataLoader,Dataset\n",
    "import torch.nn as nn\n",
    "import torch.optim as optim\n",
    "import matplotlib.pyplot as plt\n",
    "import numpy as np"
   ],
   "id": "e0b0220e4e005286",
   "outputs": [],
   "execution_count": null
  },
  {
   "metadata": {},
   "cell_type": "code",
   "source": [
    "device = \"mps\" if torch.backends.mps.is_available() else \"cpu\"\n",
    "device"
   ],
   "id": "eaeaf3bd90f80523",
   "outputs": [],
   "execution_count": null
  },
  {
   "metadata": {},
   "cell_type": "code",
   "source": "torch.manual_seed(42)\n",
   "id": "b7b5e5f716340864",
   "outputs": [],
   "execution_count": null
  },
  {
   "metadata": {},
   "cell_type": "code",
   "source": "df = pd.read_csv('./fashion-mnist_train.csv')",
   "id": "ff9fa44ea128d113",
   "outputs": [],
   "execution_count": null
  },
  {
   "metadata": {},
   "cell_type": "code",
   "source": "df.shape",
   "id": "f78158954182c8eb",
   "outputs": [],
   "execution_count": null
  },
  {
   "metadata": {},
   "cell_type": "code",
   "source": [
    "fig,axes = plt.subplots(4,4,figsize=(10,10))\n",
    "fig.suptitle(\"16 images\")\n",
    "for i,ax in enumerate(axes.flat):\n",
    "    img = df.iloc[i,1:].values.reshape(28,28)\n",
    "    ax.imshow(img)\n",
    "    ax.axis('off')\n",
    "    ax.set_title(f\"label {df.iloc[i,0]}\")\n",
    "\n",
    "plt.tight_layout(rect=[0,0,1,1])\n",
    "plt.show()"
   ],
   "id": "4899426348d09f2d",
   "outputs": [],
   "execution_count": null
  },
  {
   "metadata": {},
   "cell_type": "code",
   "source": [
    "x = df.iloc[:,1:].values\n",
    "y = df.iloc[:,0].values"
   ],
   "id": "df4ab26ceb8ed3a1",
   "outputs": [],
   "execution_count": null
  },
  {
   "metadata": {},
   "cell_type": "code",
   "source": "xtrain,xtest,ytrain,ytest = train_test_split(x,y,test_size=0.2,random_state=42)",
   "id": "d325496877b8d5a0",
   "outputs": [],
   "execution_count": null
  },
  {
   "metadata": {},
   "cell_type": "code",
   "source": [
    "from torchvision.transforms import transforms\n",
    "\n",
    "custom_transform = transforms.Compose([transforms.Resize(256),\n",
    "                                       transforms.CenterCrop(224),\n",
    "                                       transforms.ToTensor(),\n",
    "                                       transforms.Normalize(mean=[0.485, 0.456, 0.406],std=[0.229, 0.224, 0.225])]\n",
    ")"
   ],
   "id": "cee9f6eb09e65850",
   "outputs": [],
   "execution_count": null
  },
  {
   "metadata": {},
   "cell_type": "code",
   "source": [
    "from PIL import Image\n",
    "\n",
    "class Customdataset(Dataset):\n",
    "    def __init__(self, features,labels,transform):\n",
    "        self.features = features\n",
    "        self.labels = labels\n",
    "        self.transform = transform\n",
    "    def __getitem__(self, index):\n",
    "        image = self.features[index].reshape(28,28)\n",
    "        image = image.astype(np.uint8)\n",
    "        image = np.stack([image]*3,axis=-1)\n",
    "        image = Image.fromarray(image)\n",
    "        image = self.transform(image)\n",
    "        return image,torch.tensor(self.labels[index],dtype=torch.long)\n",
    "\n",
    "    def __len__(self):\n",
    "        return len(self.features)"
   ],
   "id": "db60127633ad1e5b",
   "outputs": [],
   "execution_count": null
  },
  {
   "metadata": {},
   "cell_type": "code",
   "source": [
    "traindataset = Customdataset(xtrain,ytrain,transform=custom_transform)\n",
    "len(traindataset)"
   ],
   "id": "f1de7fd5e1822fd6",
   "outputs": [],
   "execution_count": null
  },
  {
   "metadata": {},
   "cell_type": "code",
   "source": "len(traindataset)",
   "id": "c32044ed1ffd9be9",
   "outputs": [],
   "execution_count": null
  },
  {
   "metadata": {},
   "cell_type": "code",
   "source": [
    "testdataset = Customdataset(xtest,ytest,transform=custom_transform)\n",
    "len(testdataset)"
   ],
   "id": "20df7b121e829c3a",
   "outputs": [],
   "execution_count": null
  },
  {
   "metadata": {},
   "cell_type": "code",
   "source": [
    "trainloader = DataLoader(traindataset,batch_size=32,shuffle=True,pin_memory=True)\n",
    "testloader = DataLoader(testdataset,batch_size=32,shuffle=False,pin_memory=True)"
   ],
   "id": "ddc62a776cd00885",
   "outputs": [],
   "execution_count": null
  },
  {
   "metadata": {},
   "cell_type": "code",
   "source": [
    "import torchvision.models as models\n",
    "\n",
    "VGG16 = models.vgg16(pretrained=True)"
   ],
   "id": "d27328e89336344b",
   "outputs": [],
   "execution_count": null
  },
  {
   "metadata": {},
   "cell_type": "code",
   "source": "VGG16",
   "id": "dd961c46b7f07395",
   "outputs": [],
   "execution_count": null
  },
  {
   "metadata": {},
   "cell_type": "code",
   "source": [
    "#freezing pretrained weights\n",
    "for param in VGG16.features.parameters():\n",
    "    param.requires_grad = False"
   ],
   "id": "e74e4146053b8936",
   "outputs": [],
   "execution_count": null
  },
  {
   "metadata": {},
   "cell_type": "code",
   "source": [
    "VGG16.classifier= nn.Sequential(\n",
    "    nn.Linear(25088,1024),\n",
    "    nn.ReLU(),\n",
    "    nn.Dropout(0.5),\n",
    "    nn.Linear(1024,512),\n",
    "    nn.ReLU(),\n",
    "    nn.Dropout(0.5),\n",
    "    nn.Linear(512,10)\n",
    ")"
   ],
   "id": "4dea0bbc13aa9230",
   "outputs": [],
   "execution_count": null
  },
  {
   "metadata": {},
   "cell_type": "code",
   "source": "VGG16",
   "id": "7449e3044a67f088",
   "outputs": [],
   "execution_count": null
  },
  {
   "metadata": {},
   "cell_type": "code",
   "source": "VGG16.to(device)",
   "id": "6efca028e696b105",
   "outputs": [],
   "execution_count": null
  },
  {
   "metadata": {},
   "cell_type": "code",
   "source": [
    "epochs = 10\n",
    "lr = 0.0001"
   ],
   "id": "a691870a1b33d721",
   "outputs": [],
   "execution_count": null
  },
  {
   "metadata": {},
   "cell_type": "code",
   "source": [
    "criterion = nn.CrossEntropyLoss()\n",
    "optimizer = optim.Adam(VGG16.classifier.parameters(),lr=lr)# updates only classifiers parameters,rest are default as it is"
   ],
   "id": "3af053afd67f46d2",
   "outputs": [],
   "execution_count": null
  },
  {
   "metadata": {},
   "cell_type": "code",
   "source": [
    " for epoch in range(epochs):\n",
    "    for batchfeatures,batchlabels in trainloader:\n",
    "        batchfeatures = batchfeatures.to(device)\n",
    "        batchlabels = batchlabels.to(device)\n",
    "        output = VGG16(batchfeatures).to(device)\n",
    "        loss = criterion(output,batchlabels)\n",
    "        optimizer.zero_grad()\n",
    "        loss.backward()\n",
    "        optimizer.step()\n",
    "    print(f\"\\n epoch {epoch+1}, loss: {loss.item():.4f}\")\n"
   ],
   "id": "29387ce9b660e7be",
   "outputs": [],
   "execution_count": null
  },
  {
   "metadata": {},
   "cell_type": "code",
   "source": "VGG16.eval()",
   "id": "df1001880e9371c3",
   "outputs": [],
   "execution_count": null
  },
  {
   "metadata": {},
   "cell_type": "code",
   "source": [
    "total =0\n",
    "correct = 0\n",
    "with torch.no_grad():\n",
    "    for batchfeatures,batchlabels in testloader:\n",
    "        batchfeatures = batchfeatures.to(device)\n",
    "        batchlabels = batchlabels.to(device)\n",
    "        output = VGG16(batchfeatures).to(device)\n",
    "        _, predicted = torch.max(output.data,1)\n",
    "        total += batchlabels.shape[0]\n",
    "        correct = correct + predicted.eq(batchlabels).sum().item()\n",
    "print(correct/total)"
   ],
   "id": "dee9fd1bb97b6a0c",
   "outputs": [],
   "execution_count": null
  },
  {
   "metadata": {},
   "cell_type": "code",
   "source": [
    "total =0\n",
    "correct = 0\n",
    "with torch.no_grad():\n",
    "    for batchfeatures,batchlabels in trainloader:\n",
    "        batchfeatures = batchfeatures.to(device)\n",
    "        batchlabels = batchlabels.to(device)\n",
    "        output = VGG16(batchfeatures).to(device)\n",
    "        _, predicted = torch.max(output.data,1)\n",
    "        total += batchlabels.shape[0]\n",
    "        correct = correct + predicted.eq(batchlabels).sum().item()\n",
    "print(correct/total)"
   ],
   "id": "dab2ebbb2d0a1f2f",
   "outputs": [],
   "execution_count": null
  },
  {
   "metadata": {},
   "cell_type": "code",
   "source": [
    "#test acc =92\n",
    "#train ac =99\n",
    "# gap - 7 percent"
   ],
   "id": "93b6669e9e7f4929",
   "outputs": [],
   "execution_count": null
  },
  {
   "metadata": {},
   "cell_type": "code",
   "source": [
    "# model = MyNN(xtrain.shape[1]).to(device)\n",
    "# criterion = nn.CrossEntropyLoss()\n",
    "# optimizer = optim.SGD(model.parameters(),lr=lr,weight_decay=1e-4)"
   ],
   "id": "314baf20d64f0158",
   "outputs": [],
   "execution_count": null
  },
  {
   "metadata": {},
   "cell_type": "code",
   "source": [
    "#test acc - 89\n",
    "#train acc - 94\n",
    "# gap - 5 percent"
   ],
   "id": "9213aa3f7ed7ccca",
   "outputs": [],
   "execution_count": null
  },
  {
   "metadata": {},
   "cell_type": "code",
   "source": "",
   "id": "3d444a3c4e7a968f",
   "outputs": [],
   "execution_count": null
  },
  {
   "metadata": {},
   "cell_type": "code",
   "source": "",
   "id": "8ec6ebfe7e406c61",
   "outputs": [],
   "execution_count": null
  },
  {
   "metadata": {},
   "cell_type": "code",
   "source": [
    "# def objective(trial):\n",
    "#     num_hidden_layers = trial.suggest_int(\"num_hidden_layers\",1,5)\n",
    "#     neurons_per_layer = trial.suggest_int(\"neurons_per_layer\",8,128,step=8)\n",
    "#     epochs = trial.suggest_int(\"epochs\",10,50,step=10)\n",
    "#     learning_rate = trial.suggest_float(\"learning_rate\",1e-5,1e-1,log=True)\n",
    "#     dropout = trial.suggest_float(\"dropout\",0.1,0.5,step=0.1)\n",
    "#     batch_size = trial.suggest_categorical(\"batch_size\",[16,32,64,128])\n",
    "#     optimizer = trial.suggest_categorical(\"optimizer\",[\"SGD\",\"Adam\",\"RMSprop\"])\n",
    "#     weight_decay = trial.suggest_float(\"weight_decay\",1e-5,1e-3,log=True)\n",
    "#\n",
    "#     trainloader = DataLoader(traindataset,batch_size=batch_size,shuffle=True,pin_memory=True)\n",
    "#     testloader = DataLoader(testdataset,batch_size=batch_size,shuffle=False,pin_memory=True)\n",
    "#\n",
    "#     input_dim =784\n",
    "#     output_dim = 10\n",
    "#     model = NewNN(input_dim,output_dim,neurons_per_layer,num_hidden_layers,dropout)\n",
    "#     model.to(device)\n",
    "#\n",
    "#     criterion = nn.CrossEntropyLoss()\n",
    "#     if optimizer == \"SGD\":\n",
    "#         optimizer = optim.SGD(model.parameters(),lr=learning_rate,weight_decay=weight_decay)\n",
    "#     elif optimizer == \"Adam\":\n",
    "#         optimizer = optim.Adam(model.parameters(),lr=learning_rate,weight_decay=weight_decay)\n",
    "#     else:\n",
    "#         optimizer = optim.RMSprop(model.parameters(),lr=learning_rate,weight_decay=weight_decay)\n",
    "#\n",
    "#     for epoch in range(epochs):\n",
    "#         for batchfeatures,batchlabels in trainloader:\n",
    "#             batchfeatures = batchfeatures.to(device)\n",
    "#             batchlabels = batchlabels.to(device)\n",
    "#             output = model(batchfeatures).to(device)\n",
    "#             loss = criterion(output,batchlabels)\n",
    "#             optimizer.zero_grad()\n",
    "#             loss.backward()\n",
    "#             optimizer.step()\n",
    "#\n",
    "#     model.eval()\n",
    "#\n",
    "#     total =0\n",
    "#     correct = 0\n",
    "#     with torch.no_grad():\n",
    "#         for batchfeatures,batchlabels in trainloader:\n",
    "#             batchfeatures = batchfeatures.to(device)\n",
    "#             batchlabels = batchlabels.to(device)\n",
    "#             output = model(batchfeatures).to(device)\n",
    "#             _, predicted = torch.max(output.data,1)\n",
    "#             total += batchlabels.shape[0]\n",
    "#             correct = correct + predicted.eq(batchlabels).sum().item()\n",
    "#         acc = correct/total\n",
    "#     return acc\n"
   ],
   "id": "449359819b512e12",
   "outputs": [],
   "execution_count": null
  },
  {
   "metadata": {},
   "cell_type": "code",
   "source": [
    "# import optuna\n",
    "# study = optuna.create_study(direction=\"maximize\")\n",
    "# study.optimize(objective,n_trials=10)"
   ],
   "id": "1067ffda85d4488",
   "outputs": [],
   "execution_count": null
  },
  {
   "metadata": {},
   "cell_type": "code",
   "source": "# study.best_params,study.best_value",
   "id": "ecec3e33d2288392",
   "outputs": [],
   "execution_count": null
  },
  {
   "metadata": {},
   "cell_type": "code",
   "source": "",
   "id": "19e9374cdb9fa611",
   "outputs": [],
   "execution_count": null
  }
 ],
 "metadata": {
  "kernelspec": {
   "display_name": "Python 3",
   "language": "python",
   "name": "python3"
  },
  "language_info": {
   "codemirror_mode": {
    "name": "ipython",
    "version": 2
   },
   "file_extension": ".py",
   "mimetype": "text/x-python",
   "name": "python",
   "nbconvert_exporter": "python",
   "pygments_lexer": "ipython2",
   "version": "2.7.6"
  }
 },
 "nbformat": 4,
 "nbformat_minor": 5
}
