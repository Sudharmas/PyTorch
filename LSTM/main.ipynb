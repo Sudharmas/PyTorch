{
 "cells": [
  {
   "cell_type": "code",
   "id": "initial_id",
   "metadata": {
    "collapsed": true
   },
   "source": "# pip install nltk\n",
   "outputs": [],
   "execution_count": null
  },
  {
   "metadata": {},
   "cell_type": "code",
   "source": [
    "import nltk\n",
    "nltk.download()"
   ],
   "id": "ed42d2a9f922139a",
   "outputs": [],
   "execution_count": null
  },
  {
   "metadata": {},
   "cell_type": "code",
   "source": [
    "import torch\n",
    "import torch.nn as nn\n",
    "\n",
    "from collections import Counter\n",
    "\n",
    "from torch.utils.data import DataLoader,Dataset\n",
    "from nltk.tokenize import word_tokenize\n",
    "import nltk"
   ],
   "id": "1d9c36f700421649",
   "outputs": [],
   "execution_count": null
  },
  {
   "metadata": {},
   "cell_type": "code",
   "source": [
    "import nltk\n",
    "nltk.download('punkt')\n",
    "nltk.download('punkt_tab')"
   ],
   "id": "2a29a7217ddd294",
   "outputs": [],
   "execution_count": null
  },
  {
   "metadata": {},
   "cell_type": "code",
   "source": [
    "document = \"\"\"About the Program\n",
    "What is the course fee for  Data Science Mentorship Program (DSMP 2023)\n",
    "The course follows a monthly subscription model where you have to make monthly payments of Rs 799/month.\n",
    "What is the total duration of the course?\n",
    "The total duration of the course is 7 months. So the total course fee becomes 799*7 = Rs 5600(approx.)\n",
    "What is the syllabus of the mentorship program?\n",
    "We will be covering the following modules:\n",
    "Python Fundamentals\n",
    "Python libraries for Data Science\n",
    "Data Analysis\n",
    "SQL for Data Science\n",
    "Maths for Machine Learning\n",
    "ML Algorithms\n",
    "Practical ML\n",
    "MLOPs\n",
    "Case studies\n",
    "You can check the detailed syllabus here - https://learnwith.campusx.in/courses/CampusX-Data-Science-Mentorship-Program-637339afe4b0615a1bbed390\n",
    "Will Deep Learning and NLP be a part of this program?\n",
    "No, NLP and Deep Learning both are not a part of this program’s curriculum.\n",
    "What if I miss a live session? Will I get a recording of the session?\n",
    "Yes all our sessions are recorded, so even if you miss a session you can go back and watch the recording.\n",
    "Where can I find the class schedule?\n",
    "Checkout this google sheet to see month by month time table of the course - https://docs.google.com/spreadsheets/d/16OoTax_A6ORAeCg4emgexhqqPv3noQPYKU7RJ6ArOzk/edit?usp=sharing.\n",
    "What is the time duration of all the live sessions?\n",
    "Roughly, all the sessions last 2 hours.\n",
    "What is the language spoken by the instructor during the sessions?\n",
    "Hinglish\n",
    "How will I be informed about the upcoming class?\n",
    "You will get a mail from our side before every paid session once you become a paid user.\n",
    "Can I do this course if I am from a non-tech background?\n",
    "Yes, absolutely.\n",
    "I am late, can I join the program in the middle?\n",
    "Absolutely, you can join the program anytime.\n",
    "If I join/pay in the middle, will I be able to see all the past lectures?\n",
    "Yes, once you make the payment you will be able to see all the past content in your dashboard.\n",
    "Where do I have to submit the task?\n",
    "You don’t have to submit the task. We will provide you with the solutions, you have to self evaluate the task yourself.\n",
    "Will we do case studies in the program?\n",
    "Yes.\n",
    "Where can we contact you?\n",
    "You can mail us at nitish.campusx@gmail.com\n",
    "Payment/Registration related questions\n",
    "Where do we have to make our payments? Your YouTube channel or website?\n",
    "You have to make all your monthly payments on our website. Here is the link for our website - https://learnwith.campusx.in/\n",
    "Can we pay the entire amount of Rs 5600 all at once?\n",
    "Unfortunately no, the program follows a monthly subscription model.\n",
    "What is the validity of monthly subscription? Suppose if I pay on 15th Jan, then do I have to pay again on 1st Feb or 15th Feb\n",
    "15th Feb. The validity period is 30 days from the day you make the payment. So essentially you can join anytime you don’t have to wait for a month to end.\n",
    "What if I don’t like the course after making the payment. What is the refund policy?\n",
    "You get a 7 days refund period from the day you have made the payment.\n",
    "I am living outside India and I am not able to make the payment on the website, what should I do?\n",
    "You have to contact us by sending a mail at nitish.campusx@gmail.com\n",
    "Post registration queries\n",
    "Till when can I view the paid videos on the website?\n",
    "This one is tricky, so read carefully. You can watch the videos till your subscription is valid. Suppose you have purchased subscription on 21st Jan, you will be able to watch all the past paid sessions in the period of 21st Jan to 20th Feb. But after 21st Feb you will have to purchase the subscription again.\n",
    "But once the course is over and you have paid us Rs 5600(or 7 installments of Rs 799) you will be able to watch the paid sessions till Aug 2024.\n",
    "Why lifetime validity is not provided?\n",
    "Because of the low course fee.\n",
    "Where can I reach out in case of a doubt after the session?\n",
    "You will have to fill a google form provided in your dashboard and our team will contact you for a 1 on 1 doubt clearance session\n",
    "If I join the program late, can I still ask past week doubts?\n",
    "Yes, just select past week doubt in the doubt clearance google form.\n",
    "I am living outside India and I am not able to make the payment on the website, what should I do?\n",
    "You have to contact us by sending a mail at nitish.campusx@gmai.com\n",
    "Certificate and Placement Assistance related queries\n",
    "What is the criteria to get the certificate?\n",
    "There are 2 criterias:\n",
    "You have to pay the entire fee of Rs 5600\n",
    "You have to attempt all the course assessments.\n",
    "I am joining late. How can I pay payment of the earlier months?\n",
    "You will get a link to pay fee of earlier months in your dashboard once you pay for the current month.\n",
    "I have read that Placement assistance is a part of this program. What comes under Placement assistance?\n",
    "This is to clarify that Placement assistance does not mean Placement guarantee. So we dont guarantee you any jobs or for that matter even interview calls. So if you are planning to join this course just for placements, I am afraid you will be disappointed. Here is what comes under placement assistance\n",
    "Portfolio Building sessions\n",
    "Soft skill sessions\n",
    "Sessions with industry mentors\n",
    "Discussion on Job hunting strategies\n",
    "\"\"\""
   ],
   "id": "c9d23f71bb1dbb4e",
   "outputs": [],
   "execution_count": null
  },
  {
   "metadata": {},
   "cell_type": "code",
   "source": "tokens = word_tokenize(document.lower())",
   "id": "a5a134d564ce0155",
   "outputs": [],
   "execution_count": null
  },
  {
   "metadata": {},
   "cell_type": "code",
   "source": [
    "vocab = {'unk>':0}\n",
    "Counter(tokens)"
   ],
   "id": "c7156903b8b966df",
   "outputs": [],
   "execution_count": null
  },
  {
   "metadata": {},
   "cell_type": "code",
   "source": [
    "for token in Counter(tokens).keys():\n",
    "    if token not in vocab:\n",
    "        vocab[token] = len(vocab)"
   ],
   "id": "542e581934e349d5",
   "outputs": [],
   "execution_count": null
  },
  {
   "metadata": {},
   "cell_type": "code",
   "source": "input=document.split('\\n')",
   "id": "e5a84743cbf96584",
   "outputs": [],
   "execution_count": null
  },
  {
   "metadata": {},
   "cell_type": "code",
   "source": [
    "def texttoindices(sentence,vocab):\n",
    "    numericalsentence = []\n",
    "    for token in sentence:\n",
    "        if token in vocab:\n",
    "            numericalsentence.append(vocab[token])\n",
    "        else:\n",
    "            numericalsentence.append(vocab['unk>'])\n",
    "    return numericalsentence"
   ],
   "id": "88ecd23f0db8e19",
   "outputs": [],
   "execution_count": null
  },
  {
   "metadata": {},
   "cell_type": "code",
   "source": [
    "inputnumericals =[]\n",
    "for sentence in input:\n",
    "    inputnumericals.append(texttoindices(word_tokenize(sentence.lower()),vocab))"
   ],
   "id": "5d339dea8d7b90d3",
   "outputs": [],
   "execution_count": null
  },
  {
   "metadata": {},
   "cell_type": "code",
   "source": [
    "#1\n",
    "#12\n",
    "#123\n",
    "#1234\n",
    "\n",
    "trainingsequence =[]\n",
    "for sentence in inputnumericals:\n",
    "    for i in range(1,len(sentence)):\n",
    "        trainingsequence.append(sentence[:i+1])"
   ],
   "id": "2108d461b0099281",
   "outputs": [],
   "execution_count": null
  },
  {
   "metadata": {},
   "cell_type": "code",
   "source": "trainingsequence",
   "id": "a62981664e8bf523",
   "outputs": [],
   "execution_count": null
  },
  {
   "metadata": {},
   "cell_type": "code",
   "source": [
    "lenlist=[]\n",
    "for sentence in trainingsequence:\n",
    "    lenlist.append(len(sentence))"
   ],
   "id": "359f21fef33d5a60",
   "outputs": [],
   "execution_count": null
  },
  {
   "metadata": {},
   "cell_type": "code",
   "source": "max(lenlist)",
   "id": "d37e67edd96abdd3",
   "outputs": [],
   "execution_count": null
  },
  {
   "metadata": {},
   "cell_type": "code",
   "source": [
    "#padding means adding 0 or custom characters in beginning or end to match all sentences length with the largest length .here the largest length is 62,so we add number of zeroes before other numbrs in a sentence so that while predicting it can go upto all words in a sentence max.\n",
    "paddedsequence=[]\n",
    "for sentence in trainingsequence:\n",
    "    paddedsequence.append([0]*(max(lenlist)-len(sentence))+sentence)\n",
    "    #calculating length of sentence and then substracting it with max length to add that number of zeroes"
   ],
   "id": "d52a32f07c29b322",
   "outputs": [],
   "execution_count": null
  },
  {
   "metadata": {},
   "cell_type": "code",
   "source": "paddd_training = torch.tensor(paddedsequence, dtype=torch.long)",
   "id": "45e45ad91f566c04",
   "outputs": [],
   "execution_count": null
  },
  {
   "metadata": {},
   "cell_type": "code",
   "source": "paddd_training",
   "id": "9c4fb8502a05d6dc",
   "outputs": [],
   "execution_count": null
  },
  {
   "metadata": {},
   "cell_type": "code",
   "source": [
    "x = paddd_training[:,:-1]\n",
    "y = paddd_training[:,-1]"
   ],
   "id": "3a852618d5a32c1",
   "outputs": [],
   "execution_count": null
  },
  {
   "metadata": {},
   "cell_type": "code",
   "source": [
    "class datatset(Dataset):\n",
    "    def __init__(self,x,y):\n",
    "        self.x=x\n",
    "        self.y=y\n",
    "    def __len__(self):\n",
    "        return self.x.shape[0]\n",
    "    def __getitem__(self, index):\n",
    "        return self.x[index], self.y[index]\n"
   ],
   "id": "d16e196586b47e3f",
   "outputs": [],
   "execution_count": null
  },
  {
   "metadata": {},
   "cell_type": "code",
   "source": "dataset = datatset(x,y)",
   "id": "2bc3680a7a9cbf75",
   "outputs": [],
   "execution_count": null
  },
  {
   "metadata": {},
   "cell_type": "code",
   "source": "dataloader = DataLoader(dataset, batch_size=32, shuffle=True)",
   "id": "81affc5bf3ab9375",
   "outputs": [],
   "execution_count": null
  },
  {
   "metadata": {},
   "cell_type": "code",
   "source": [
    "class LSTMmodel(nn.Module):\n",
    "    def __init__(self,vocab_size):\n",
    "        super().__init__()\n",
    "        self.embedding = nn.Embedding(vocab_size, 100)\n",
    "        self.lstm = nn.LSTM(100, 150,batch_first=True)\n",
    "        self.linear = nn.Linear(150, vocab_size)\n",
    "    def forward(self,x):\n",
    "        embedding = self.embedding(x)\n",
    "        inteemediate_hiddenstate,(finalhiddenstate,finalcellstate)=self.lstm(embedding)\n",
    "        output = self.linear(finalhiddenstate.squeeze(0))\n",
    "        return output"
   ],
   "id": "228117a7a1d40227",
   "outputs": [],
   "execution_count": null
  },
  {
   "metadata": {},
   "cell_type": "code",
   "source": "model = LSTMmodel(len(vocab))",
   "id": "fd4f3d9b8f98b38d",
   "outputs": [],
   "execution_count": null
  },
  {
   "metadata": {},
   "cell_type": "code",
   "source": [
    "device = \"mps\" if torch.backends.mps.is_available() else \"cpu\"\n",
    "device"
   ],
   "id": "71f42fc927180fe3",
   "outputs": [],
   "execution_count": null
  },
  {
   "metadata": {},
   "cell_type": "code",
   "source": "model.to(device)",
   "id": "c1c340b4433a83a8",
   "outputs": [],
   "execution_count": null
  },
  {
   "metadata": {},
   "cell_type": "code",
   "source": [
    "epochs = 50\n",
    "lr = 0.001\n",
    "criteria = nn.CrossEntropyLoss()\n",
    "optimizer = torch.optim.Adam(model.parameters(), lr=lr)"
   ],
   "id": "6fc037a8aca08761",
   "outputs": [],
   "execution_count": null
  },
  {
   "metadata": {},
   "cell_type": "code",
   "source": [
    "for epoch in range(epochs):\n",
    "    totalloss = 0\n",
    "    for batchx,batchy in dataloader:\n",
    "        batchx,batchy = batchx.to(device),batchy.to(device)\n",
    "        optimizer.zero_grad()\n",
    "        outputs = model(batchx).to(device)\n",
    "        loss = criteria(outputs, batchy)\n",
    "        loss.backward()\n",
    "        optimizer.step()\n",
    "        totalloss += loss.item()\n",
    "    print(f'Epoch {epoch+1}/{epochs}, Loss: {totalloss/len(dataloader)}')"
   ],
   "id": "7826edeb7bee9952",
   "outputs": [],
   "execution_count": null
  },
  {
   "metadata": {},
   "cell_type": "code",
   "source": [
    "def predict(model,vocab,text):\n",
    "    tokenizedtext = word_tokenize(text.lower())\n",
    "    texttoindice = texttoindices(tokenizedtext,vocab)\n",
    "    paddedtext=torch.tensor([0]*(61-len(texttoindice))+texttoindice,dtype=torch.long).unsqueeze(0).to(device)\n",
    "    output = model(paddedtext)\n",
    "    value,index=torch.max(output,dim=1)\n",
    "    return text+\" \"+list(vocab.keys())[index]"
   ],
   "id": "4c40b3ad2765582d",
   "outputs": [],
   "execution_count": null
  },
  {
   "metadata": {},
   "cell_type": "code",
   "source": "predict(model,vocab,\"soft skill\")",
   "id": "6822a698abd955b8",
   "outputs": [],
   "execution_count": null
  },
  {
   "metadata": {},
   "cell_type": "code",
   "source": [
    "numtokens = 10\n",
    "inputtext = \"soft\"\n",
    "\n",
    "for i in range(numtokens):\n",
    "    outputtext = predict(model,vocab,inputtext)\n",
    "    print(outputtext)\n",
    "    inputtext = outputtext"
   ],
   "id": "427546650c01497c",
   "outputs": [],
   "execution_count": null
  },
  {
   "metadata": {},
   "cell_type": "code",
   "source": "",
   "id": "cce86e08646f12f",
   "outputs": [],
   "execution_count": null
  }
 ],
 "metadata": {
  "kernelspec": {
   "display_name": "Python 3",
   "language": "python",
   "name": "python3"
  },
  "language_info": {
   "codemirror_mode": {
    "name": "ipython",
    "version": 2
   },
   "file_extension": ".py",
   "mimetype": "text/x-python",
   "name": "python",
   "nbconvert_exporter": "python",
   "pygments_lexer": "ipython2",
   "version": "2.7.6"
  }
 },
 "nbformat": 4,
 "nbformat_minor": 5
}
