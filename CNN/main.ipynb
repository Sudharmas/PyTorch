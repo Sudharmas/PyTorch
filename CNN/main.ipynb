{
 "cells": [
  {
   "metadata": {
    "collapsed": true
   },
   "cell_type": "code",
   "source": [
    "import pandas as pd\n",
    "from IPython.core.pylabtools import figsize\n",
    "from sklearn.model_selection import train_test_split\n",
    "import torch\n",
    "from torch.utils.data import DataLoader,Dataset\n",
    "import torch.nn as nn\n",
    "import torch.optim as optim\n",
    "import matplotlib.pyplot as plt\n",
    "import numpy as np"
   ],
   "id": "aa15c0b1bded1cb1",
   "outputs": [],
   "execution_count": null
  },
  {
   "metadata": {},
   "cell_type": "code",
   "source": [
    "device = \"mps\" if torch.backends.mps.is_available() else \"cpu\"\n",
    "device"
   ],
   "id": "3aeb47cf53879037",
   "outputs": [],
   "execution_count": null
  },
  {
   "metadata": {},
   "cell_type": "code",
   "source": "torch.manual_seed(42)\n",
   "id": "32cbc49280fda62",
   "outputs": [],
   "execution_count": null
  },
  {
   "metadata": {},
   "cell_type": "code",
   "source": "df = pd.read_csv('./fashion-mnist_train.csv')",
   "id": "85d307c350999c7e",
   "outputs": [],
   "execution_count": null
  },
  {
   "metadata": {},
   "cell_type": "code",
   "source": "df.shape",
   "id": "17bb8ee91a2bc8cd",
   "outputs": [],
   "execution_count": null
  },
  {
   "metadata": {},
   "cell_type": "code",
   "source": [
    "fig,axes = plt.subplots(4,4,figsize=(10,10))\n",
    "fig.suptitle(\"16 images\")\n",
    "for i,ax in enumerate(axes.flat):\n",
    "    img = df.iloc[i,1:].values.reshape(28,28)\n",
    "    ax.imshow(img)\n",
    "    ax.axis('off')\n",
    "    ax.set_title(f\"label {df.iloc[i,0]}\")\n",
    "\n",
    "plt.tight_layout(rect=[0,0,1,1])\n",
    "plt.show()"
   ],
   "id": "4615222aaac18587",
   "outputs": [],
   "execution_count": null
  },
  {
   "metadata": {},
   "cell_type": "code",
   "source": [
    "x = df.iloc[:,1:].values\n",
    "y = df.iloc[:,0].values"
   ],
   "id": "85682b5237c71e7e",
   "outputs": [],
   "execution_count": null
  },
  {
   "metadata": {},
   "cell_type": "code",
   "source": "xtrain,xtest,ytrain,ytest = train_test_split(x,y,test_size=0.2,random_state=42)",
   "id": "7ebbaaaa0299966c",
   "outputs": [],
   "execution_count": null
  },
  {
   "metadata": {},
   "cell_type": "code",
   "source": [
    "xtrain = xtrain/255.0\n",
    "xtest = xtest/255.0\n",
    "xtrain.shape"
   ],
   "id": "af736a622d058db8",
   "outputs": [],
   "execution_count": null
  },
  {
   "metadata": {},
   "cell_type": "code",
   "source": [
    "class customdataset(Dataset):\n",
    "    def __init__(self,features,labels):\n",
    "        self.features = torch.tensor(features,dtype=torch.float32).reshape(-1,1,28,28)\n",
    "        self.labels = torch.tensor(labels,dtype=torch.long)\n",
    "\n",
    "    def __len__(self):\n",
    "        return len(self.features)\n",
    "\n",
    "    def __getitem__(self, idx):\n",
    "        return self.features[idx],self.labels[idx]\n"
   ],
   "id": "b35004079939f441",
   "outputs": [],
   "execution_count": null
  },
  {
   "metadata": {},
   "cell_type": "code",
   "source": [
    "traindataset = customdataset(xtrain,ytrain)\n",
    "len(traindataset)"
   ],
   "id": "de71486d249acd2b",
   "outputs": [],
   "execution_count": null
  },
  {
   "metadata": {},
   "cell_type": "code",
   "source": "traindataset[0]",
   "id": "1d394ea62e66089f",
   "outputs": [],
   "execution_count": null
  },
  {
   "metadata": {},
   "cell_type": "code",
   "source": [
    "testdataset = customdataset(xtest,ytest)\n",
    "len(testdataset)"
   ],
   "id": "42ba2f90f561d9fc",
   "outputs": [],
   "execution_count": null
  },
  {
   "metadata": {},
   "cell_type": "code",
   "source": [
    "trainloader = DataLoader(traindataset,batch_size=32,shuffle=True,pin_memory=True)\n",
    "testloader = DataLoader(testdataset,batch_size=32,shuffle=False,pin_memory=True)"
   ],
   "id": "f6692ca5d6571ac8",
   "outputs": [],
   "execution_count": null
  },
  {
   "metadata": {},
   "cell_type": "code",
   "source": [
    "class NewNN(nn.Module):\n",
    "    def __init__(self,input_features):\n",
    "        super().__init__()\n",
    "        self.features = nn.Sequential(\n",
    "            nn.Conv2d(input_features,32,kernel_size=3,padding='same'),\n",
    "            nn.ReLU(),\n",
    "            nn.BatchNorm2d(32),\n",
    "            nn.MaxPool2d(kernel_size=2,stride=2),\n",
    "            nn.Conv2d(32,64,kernel_size=3,padding='same'),\n",
    "            nn.ReLU(),\n",
    "            nn.BatchNorm2d(64),\n",
    "            nn.MaxPool2d(kernel_size=2,stride=2),\n",
    "        )\n",
    "        self.classifier = nn.Sequential(\n",
    "            nn.Flatten(),\n",
    "            nn.Linear(64*7*7,128),\n",
    "            nn.ReLU(),\n",
    "            nn.Dropout(0.4),\n",
    "            nn.Linear(128,64),\n",
    "            nn.ReLU(),\n",
    "            nn.Dropout(0.4),\n",
    "            nn.Linear(64,10),\n",
    "        )\n",
    "\n",
    "    def forward(self,x):\n",
    "        x = self.features(x)\n",
    "        x = self.classifier(x)\n",
    "        return x"
   ],
   "id": "23e671da9df1adc8",
   "outputs": [],
   "execution_count": null
  },
  {
   "metadata": {},
   "cell_type": "code",
   "source": [
    "epochs = 100\n",
    "lr = 0.1"
   ],
   "id": "8e5d4bf0de4d3315",
   "outputs": [],
   "execution_count": null
  },
  {
   "metadata": {},
   "cell_type": "code",
   "source": [
    "model = NewNN(1).to(device)\n",
    "criterion = nn.CrossEntropyLoss()\n",
    "optimizer = optim.SGD(model.parameters(),lr=lr)"
   ],
   "id": "e2d4c761bc13ff93",
   "outputs": [],
   "execution_count": null
  },
  {
   "metadata": {},
   "cell_type": "code",
   "source": [
    "for epoch in range(epochs):\n",
    "    for batchfeatures,batchlabels in trainloader:\n",
    "        batchfeatures = batchfeatures.to(device)\n",
    "        batchlabels = batchlabels.to(device)\n",
    "        output = model(batchfeatures).to(device)\n",
    "        loss = criterion(output,batchlabels)\n",
    "        optimizer.zero_grad()\n",
    "        loss.backward()\n",
    "        optimizer.step()\n",
    "    print(f\"\\n epoch {epoch+1}, loss: {loss.item():.4f}\")\n"
   ],
   "id": "4034e4ea05a0cea3",
   "outputs": [],
   "execution_count": null
  },
  {
   "metadata": {},
   "cell_type": "code",
   "source": "model.eval()",
   "id": "746a8eccd5005b2c",
   "outputs": [],
   "execution_count": null
  },
  {
   "metadata": {},
   "cell_type": "code",
   "source": [
    "total =0\n",
    "correct = 0\n",
    "with torch.no_grad():\n",
    "    for batchfeatures,batchlabels in testloader:\n",
    "        batchfeatures = batchfeatures.to(device)\n",
    "        batchlabels = batchlabels.to(device)\n",
    "        output = model(batchfeatures).to(device)\n",
    "        _, predicted = torch.max(output.data,1)\n",
    "        total += batchlabels.shape[0]\n",
    "        correct = correct + predicted.eq(batchlabels).sum().item()\n",
    "print(correct/total)"
   ],
   "id": "80324758aa7281ed",
   "outputs": [],
   "execution_count": null
  },
  {
   "metadata": {},
   "cell_type": "code",
   "source": [
    "total =0\n",
    "correct = 0\n",
    "with torch.no_grad():\n",
    "    for batchfeatures,batchlabels in trainloader:\n",
    "        batchfeatures = batchfeatures.to(device)\n",
    "        batchlabels = batchlabels.to(device)\n",
    "        output = model(batchfeatures).to(device)\n",
    "        _, predicted = torch.max(output.data,1)\n",
    "        total += batchlabels.shape[0]\n",
    "        correct = correct + predicted.eq(batchlabels).sum().item()\n",
    "print(correct/total)"
   ],
   "id": "afdb37e104071c3c",
   "outputs": [],
   "execution_count": null
  },
  {
   "metadata": {},
   "cell_type": "code",
   "source": [
    "#test acc =92\n",
    "#train ac =99\n",
    "# gap - 7 percent"
   ],
   "id": "563f716040fe0061",
   "outputs": [],
   "execution_count": null
  },
  {
   "metadata": {},
   "cell_type": "code",
   "source": [
    "# model = MyNN(xtrain.shape[1]).to(device)\n",
    "# criterion = nn.CrossEntropyLoss()\n",
    "# optimizer = optim.SGD(model.parameters(),lr=lr,weight_decay=1e-4)"
   ],
   "id": "f0059196c0521c73",
   "outputs": [],
   "execution_count": null
  },
  {
   "metadata": {},
   "cell_type": "code",
   "source": [
    "#test acc - 89\n",
    "#train acc - 94\n",
    "# gap - 5 percent"
   ],
   "id": "6838119beb22f12d",
   "outputs": [],
   "execution_count": null
  },
  {
   "metadata": {},
   "cell_type": "code",
   "source": "",
   "id": "6ab535fbdd3cf339",
   "outputs": [],
   "execution_count": null
  },
  {
   "metadata": {},
   "cell_type": "code",
   "source": "",
   "id": "5a5b9b48064b9cc9",
   "outputs": [],
   "execution_count": null
  },
  {
   "metadata": {},
   "cell_type": "code",
   "source": [
    "# def objective(trial):\n",
    "#     num_hidden_layers = trial.suggest_int(\"num_hidden_layers\",1,5)\n",
    "#     neurons_per_layer = trial.suggest_int(\"neurons_per_layer\",8,128,step=8)\n",
    "#     epochs = trial.suggest_int(\"epochs\",10,50,step=10)\n",
    "#     learning_rate = trial.suggest_float(\"learning_rate\",1e-5,1e-1,log=True)\n",
    "#     dropout = trial.suggest_float(\"dropout\",0.1,0.5,step=0.1)\n",
    "#     batch_size = trial.suggest_categorical(\"batch_size\",[16,32,64,128])\n",
    "#     optimizer = trial.suggest_categorical(\"optimizer\",[\"SGD\",\"Adam\",\"RMSprop\"])\n",
    "#     weight_decay = trial.suggest_float(\"weight_decay\",1e-5,1e-3,log=True)\n",
    "#\n",
    "#     trainloader = DataLoader(traindataset,batch_size=batch_size,shuffle=True,pin_memory=True)\n",
    "#     testloader = DataLoader(testdataset,batch_size=batch_size,shuffle=False,pin_memory=True)\n",
    "#\n",
    "#     input_dim =784\n",
    "#     output_dim = 10\n",
    "#     model = NewNN(input_dim,output_dim,neurons_per_layer,num_hidden_layers,dropout)\n",
    "#     model.to(device)\n",
    "#\n",
    "#     criterion = nn.CrossEntropyLoss()\n",
    "#     if optimizer == \"SGD\":\n",
    "#         optimizer = optim.SGD(model.parameters(),lr=learning_rate,weight_decay=weight_decay)\n",
    "#     elif optimizer == \"Adam\":\n",
    "#         optimizer = optim.Adam(model.parameters(),lr=learning_rate,weight_decay=weight_decay)\n",
    "#     else:\n",
    "#         optimizer = optim.RMSprop(model.parameters(),lr=learning_rate,weight_decay=weight_decay)\n",
    "#\n",
    "#     for epoch in range(epochs):\n",
    "#         for batchfeatures,batchlabels in trainloader:\n",
    "#             batchfeatures = batchfeatures.to(device)\n",
    "#             batchlabels = batchlabels.to(device)\n",
    "#             output = model(batchfeatures).to(device)\n",
    "#             loss = criterion(output,batchlabels)\n",
    "#             optimizer.zero_grad()\n",
    "#             loss.backward()\n",
    "#             optimizer.step()\n",
    "#\n",
    "#     model.eval()\n",
    "#\n",
    "#     total =0\n",
    "#     correct = 0\n",
    "#     with torch.no_grad():\n",
    "#         for batchfeatures,batchlabels in trainloader:\n",
    "#             batchfeatures = batchfeatures.to(device)\n",
    "#             batchlabels = batchlabels.to(device)\n",
    "#             output = model(batchfeatures).to(device)\n",
    "#             _, predicted = torch.max(output.data,1)\n",
    "#             total += batchlabels.shape[0]\n",
    "#             correct = correct + predicted.eq(batchlabels).sum().item()\n",
    "#         acc = correct/total\n",
    "#     return acc\n"
   ],
   "id": "113202a40d62fe4c",
   "outputs": [],
   "execution_count": null
  },
  {
   "metadata": {},
   "cell_type": "code",
   "source": [
    "# import optuna\n",
    "# study = optuna.create_study(direction=\"maximize\")\n",
    "# study.optimize(objective,n_trials=10)"
   ],
   "id": "8d105ed0c5668ccc",
   "outputs": [],
   "execution_count": null
  },
  {
   "metadata": {},
   "cell_type": "code",
   "source": "# study.best_params,study.best_value",
   "id": "2d763196d44b67f0",
   "outputs": [],
   "execution_count": null
  },
  {
   "metadata": {},
   "cell_type": "code",
   "source": "",
   "id": "494564f4d21571d6",
   "outputs": [],
   "execution_count": null
  }
 ],
 "metadata": {
  "kernelspec": {
   "display_name": "Python 3",
   "language": "python",
   "name": "python3"
  },
  "language_info": {
   "codemirror_mode": {
    "name": "ipython",
    "version": 2
   },
   "file_extension": ".py",
   "mimetype": "text/x-python",
   "name": "python",
   "nbconvert_exporter": "python",
   "pygments_lexer": "ipython2",
   "version": "2.7.6"
  }
 },
 "nbformat": 4,
 "nbformat_minor": 5
}
