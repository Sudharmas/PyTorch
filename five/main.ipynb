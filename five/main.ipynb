{
 "cells": [
  {
   "cell_type": "code",
   "id": "initial_id",
   "metadata": {
    "collapsed": true,
    "ExecuteTime": {
     "end_time": "2025-09-08T14:07:36.903747Z",
     "start_time": "2025-09-08T14:07:35.924192Z"
    }
   },
   "source": "import torch",
   "outputs": [],
   "execution_count": 1
  },
  {
   "metadata": {
    "ExecuteTime": {
     "end_time": "2025-09-08T14:07:43.040073Z",
     "start_time": "2025-09-08T14:07:43.037659Z"
    }
   },
   "cell_type": "code",
   "source": "import torch.nn as nn",
   "id": "f6da8e06bfdfe9eb",
   "outputs": [],
   "execution_count": 2
  },
  {
   "metadata": {
    "ExecuteTime": {
     "end_time": "2025-09-08T14:15:59.264993Z",
     "start_time": "2025-09-08T14:15:59.261666Z"
    }
   },
   "cell_type": "code",
   "source": [
    "class model(nn.Module):\n",
    "    def __init__(self,num_features):\n",
    "        super().__init__()\n",
    "        self.linear = nn.Linear(num_features, 1)\n",
    "        self.sigmoid = nn.Sigmoid()\n",
    "    def forward(self,features):\n",
    "        out = self.linear(features)\n",
    "        out = self.sigmoid(out)\n",
    "        return out"
   ],
   "id": "9d4e60f382d49485",
   "outputs": [],
   "execution_count": 16
  },
  {
   "metadata": {
    "ExecuteTime": {
     "end_time": "2025-09-08T14:15:59.611506Z",
     "start_time": "2025-09-08T14:15:59.605530Z"
    }
   },
   "cell_type": "code",
   "source": [
    "torch.random.manual_seed(42)\n",
    "features = torch.rand(10,5)\n",
    "model = model(num_features=features.shape[1])\n",
    "print(model(features))"
   ],
   "id": "7d09d4f0afdc1c36",
   "outputs": [
    {
     "name": "stdout",
     "output_type": "stream",
     "text": [
      "tensor([[0.4769],\n",
      "        [0.4913],\n",
      "        [0.4193],\n",
      "        [0.4561],\n",
      "        [0.5514],\n",
      "        [0.5342],\n",
      "        [0.4267],\n",
      "        [0.4170],\n",
      "        [0.5117],\n",
      "        [0.5060]], grad_fn=<SigmoidBackward0>)\n"
     ]
    }
   ],
   "execution_count": 17
  },
  {
   "metadata": {
    "ExecuteTime": {
     "end_time": "2025-09-08T14:16:23.546026Z",
     "start_time": "2025-09-08T14:16:23.539908Z"
    }
   },
   "cell_type": "code",
   "source": "from torchinfo import summary",
   "id": "44a83b7338a5b67b",
   "outputs": [],
   "execution_count": 18
  },
  {
   "metadata": {
    "ExecuteTime": {
     "end_time": "2025-09-08T14:16:58.471778Z",
     "start_time": "2025-09-08T14:16:58.467128Z"
    }
   },
   "cell_type": "code",
   "source": "summary(model, input_size=(10,5))",
   "id": "ee9d9458d4884cb5",
   "outputs": [
    {
     "data": {
      "text/plain": [
       "==========================================================================================\n",
       "Layer (type:depth-idx)                   Output Shape              Param #\n",
       "==========================================================================================\n",
       "model                                    [10, 1]                   --\n",
       "├─Linear: 1-1                            [10, 1]                   6\n",
       "├─Sigmoid: 1-2                           [10, 1]                   --\n",
       "==========================================================================================\n",
       "Total params: 6\n",
       "Trainable params: 6\n",
       "Non-trainable params: 0\n",
       "Total mult-adds (Units.MEGABYTES): 0.00\n",
       "==========================================================================================\n",
       "Input size (MB): 0.00\n",
       "Forward/backward pass size (MB): 0.00\n",
       "Params size (MB): 0.00\n",
       "Estimated Total Size (MB): 0.00\n",
       "=========================================================================================="
      ]
     },
     "execution_count": 21,
     "metadata": {},
     "output_type": "execute_result"
    }
   ],
   "execution_count": 21
  },
  {
   "metadata": {
    "ExecuteTime": {
     "end_time": "2025-09-08T14:30:17.015641Z",
     "start_time": "2025-09-08T14:30:17.011918Z"
    }
   },
   "cell_type": "code",
   "source": [
    "class model2(nn.Module):\n",
    "    def __init__(self,num_features):\n",
    "        super().__init__()\n",
    "        self.network = nn.Sequential(nn.Linear(num_features, 3),\n",
    "        nn.ReLU(),\n",
    "        nn.Linear(3,1),\n",
    "        nn.Sigmoid())\n",
    "    def forward(self,features):\n",
    "        out = self.linear(features)\n",
    "        out = self.relu(out)\n",
    "        out = self.linear2(out)\n",
    "        out = self.sigmoid(out)\n",
    "        return out"
   ],
   "id": "9bf42835a9f6a5ce",
   "outputs": [],
   "execution_count": 23
  },
  {
   "metadata": {},
   "cell_type": "code",
   "outputs": [],
   "execution_count": null,
   "source": "",
   "id": "eaeeeb73cf8ffa06"
  }
 ],
 "metadata": {
  "kernelspec": {
   "display_name": "Python 3",
   "language": "python",
   "name": "python3"
  },
  "language_info": {
   "codemirror_mode": {
    "name": "ipython",
    "version": 2
   },
   "file_extension": ".py",
   "mimetype": "text/x-python",
   "name": "python",
   "nbconvert_exporter": "python",
   "pygments_lexer": "ipython2",
   "version": "2.7.6"
  }
 },
 "nbformat": 4,
 "nbformat_minor": 5
}
